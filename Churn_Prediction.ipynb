{
  "cells": [
    {
      "cell_type": "markdown",
      "metadata": {
        "id": "28eNwMpME1Fc"
      },
      "source": [
        "# Customer Churn Prediction - Case Study:"
      ]
    },
    {
      "cell_type": "markdown",
      "metadata": {
        "id": "vm0q_tKjFBfR"
      },
      "source": [
        "## 1: Introduction: "
      ]
    },
    {
      "cell_type": "code",
      "execution_count": null,
      "metadata": {
        "id": "my-gOBTeEeOs"
      },
      "outputs": [],
      "source": [
        "import numpy as np\n",
        "import pandas as pd\n",
        "import matplotlib.pyplot as plt\n",
        "import seaborn as sns\n",
        "import plotly.express as px\n",
        "import plotly.graph_objects as go\n",
        "import matplotlib as mpl\n",
        "%matplotlib inline\n",
        "mpl.rcParams['axes.labelsize'] = 12\n",
        "mpl.rcParams['axes.titlesize'] = 20\n",
        "mpl.rcParams['xtick.labelsize'] = 13\n",
        "mpl.rcParams['ytick.labelsize'] = 13\n",
        "mpl.rcParams['legend.fontsize'] = 10\n",
        "mpl.rcParams['axes.grid'] = False"
      ]
    },
    {
      "cell_type": "markdown",
      "metadata": {
        "id": "A5up0qxgKzm-"
      },
      "source": [
        "## 2: Data Exploration:"
      ]
    },
    {
      "cell_type": "code",
      "execution_count": null,
      "metadata": {
        "id": "rZhNM6g_KzZz"
      },
      "outputs": [],
      "source": [
        ""
      ]
    },
    {
      "cell_type": "code",
      "execution_count": null,
      "metadata": {
        "colab": {
          "base_uri": "https://localhost:8080/"
        },
        "id": "UgWB2lLCE77J",
        "outputId": "a9bb12d5-7b06-42c6-d0b0-d0528335464d"
      },
      "outputs": [
        {
          "output_type": "stream",
          "name": "stdout",
          "text": [
            "Dimension of the Data: (10000, 14)\n",
            "Column: RowNumber            |     Type: int64      |     Missing Values: 0\n",
            "Column: CustomerId           |     Type: int64      |     Missing Values: 0\n",
            "Column: Surname              |     Type: object     |     Missing Values: 0\n",
            "Column: CreditScore          |     Type: int64      |     Missing Values: 0\n",
            "Column: Geography            |     Type: object     |     Missing Values: 0\n",
            "Column: Gender               |     Type: object     |     Missing Values: 0\n",
            "Column: Age                  |     Type: int64      |     Missing Values: 0\n",
            "Column: Tenure               |     Type: int64      |     Missing Values: 0\n",
            "Column: Balance              |     Type: float64    |     Missing Values: 0\n",
            "Column: NumOfProducts        |     Type: int64      |     Missing Values: 0\n",
            "Column: HasCrCard            |     Type: int64      |     Missing Values: 0\n",
            "Column: IsActiveMember       |     Type: int64      |     Missing Values: 0\n",
            "Column: EstimatedSalary      |     Type: float64    |     Missing Values: 0\n",
            "Column: Exited               |     Type: int64      |     Missing Values: 0\n"
          ]
        }
      ],
      "source": [
        "table = pd.read_csv('Churn_Modelling.csv')\n",
        "data = table.copy()\n",
        "print(f'Dimension of the Data: {data.shape}')\n",
        "for column in data.columns:\n",
        "    print(f'Column: {column:20} | \\\n",
        "    Type: {str(data[column].dtype):10} | \\\n",
        "    Missing Values: {data[column].isnull().sum()}')"
      ]
    },
    {
      "cell_type": "code",
      "execution_count": null,
      "metadata": {
        "colab": {
          "base_uri": "https://localhost:8080/",
          "height": 224
        },
        "id": "wQQpYrD2JKOl",
        "outputId": "f8933890-e803-4e66-9dc6-285a01704e00"
      },
      "outputs": [
        {
          "output_type": "execute_result",
          "data": {
            "text/html": [
              "<div>\n",
              "<style scoped>\n",
              "    .dataframe tbody tr th:only-of-type {\n",
              "        vertical-align: middle;\n",
              "    }\n",
              "\n",
              "    .dataframe tbody tr th {\n",
              "        vertical-align: top;\n",
              "    }\n",
              "\n",
              "    .dataframe thead th {\n",
              "        text-align: right;\n",
              "    }\n",
              "</style>\n",
              "<table border=\"1\" class=\"dataframe\">\n",
              "  <thead>\n",
              "    <tr style=\"text-align: right;\">\n",
              "      <th></th>\n",
              "      <th>RowNumber</th>\n",
              "      <th>CustomerId</th>\n",
              "      <th>Surname</th>\n",
              "      <th>CreditScore</th>\n",
              "      <th>Geography</th>\n",
              "      <th>Gender</th>\n",
              "      <th>Age</th>\n",
              "      <th>Tenure</th>\n",
              "      <th>Balance</th>\n",
              "      <th>NumOfProducts</th>\n",
              "      <th>HasCrCard</th>\n",
              "      <th>IsActiveMember</th>\n",
              "      <th>EstimatedSalary</th>\n",
              "      <th>Exited</th>\n",
              "    </tr>\n",
              "  </thead>\n",
              "  <tbody>\n",
              "    <tr>\n",
              "      <th>0</th>\n",
              "      <td>1</td>\n",
              "      <td>15634602</td>\n",
              "      <td>Hargrave</td>\n",
              "      <td>619</td>\n",
              "      <td>France</td>\n",
              "      <td>Female</td>\n",
              "      <td>42</td>\n",
              "      <td>2</td>\n",
              "      <td>0.00</td>\n",
              "      <td>1</td>\n",
              "      <td>1</td>\n",
              "      <td>1</td>\n",
              "      <td>101348.88</td>\n",
              "      <td>1</td>\n",
              "    </tr>\n",
              "    <tr>\n",
              "      <th>1</th>\n",
              "      <td>2</td>\n",
              "      <td>15647311</td>\n",
              "      <td>Hill</td>\n",
              "      <td>608</td>\n",
              "      <td>Spain</td>\n",
              "      <td>Female</td>\n",
              "      <td>41</td>\n",
              "      <td>1</td>\n",
              "      <td>83807.86</td>\n",
              "      <td>1</td>\n",
              "      <td>0</td>\n",
              "      <td>1</td>\n",
              "      <td>112542.58</td>\n",
              "      <td>0</td>\n",
              "    </tr>\n",
              "    <tr>\n",
              "      <th>2</th>\n",
              "      <td>3</td>\n",
              "      <td>15619304</td>\n",
              "      <td>Onio</td>\n",
              "      <td>502</td>\n",
              "      <td>France</td>\n",
              "      <td>Female</td>\n",
              "      <td>42</td>\n",
              "      <td>8</td>\n",
              "      <td>159660.80</td>\n",
              "      <td>3</td>\n",
              "      <td>1</td>\n",
              "      <td>0</td>\n",
              "      <td>113931.57</td>\n",
              "      <td>1</td>\n",
              "    </tr>\n",
              "    <tr>\n",
              "      <th>3</th>\n",
              "      <td>4</td>\n",
              "      <td>15701354</td>\n",
              "      <td>Boni</td>\n",
              "      <td>699</td>\n",
              "      <td>France</td>\n",
              "      <td>Female</td>\n",
              "      <td>39</td>\n",
              "      <td>1</td>\n",
              "      <td>0.00</td>\n",
              "      <td>2</td>\n",
              "      <td>0</td>\n",
              "      <td>0</td>\n",
              "      <td>93826.63</td>\n",
              "      <td>0</td>\n",
              "    </tr>\n",
              "    <tr>\n",
              "      <th>4</th>\n",
              "      <td>5</td>\n",
              "      <td>15737888</td>\n",
              "      <td>Mitchell</td>\n",
              "      <td>850</td>\n",
              "      <td>Spain</td>\n",
              "      <td>Female</td>\n",
              "      <td>43</td>\n",
              "      <td>2</td>\n",
              "      <td>125510.82</td>\n",
              "      <td>1</td>\n",
              "      <td>1</td>\n",
              "      <td>1</td>\n",
              "      <td>79084.10</td>\n",
              "      <td>0</td>\n",
              "    </tr>\n",
              "  </tbody>\n",
              "</table>\n",
              "</div>"
            ],
            "text/plain": [
              "   RowNumber  CustomerId   Surname  ...  IsActiveMember EstimatedSalary Exited\n",
              "0          1    15634602  Hargrave  ...               1       101348.88      1\n",
              "1          2    15647311      Hill  ...               1       112542.58      0\n",
              "2          3    15619304      Onio  ...               0       113931.57      1\n",
              "3          4    15701354      Boni  ...               0        93826.63      0\n",
              "4          5    15737888  Mitchell  ...               1        79084.10      0\n",
              "\n",
              "[5 rows x 14 columns]"
            ]
          },
          "metadata": {},
          "execution_count": 80
        }
      ],
      "source": [
        "data.head(5)"
      ]
    },
    {
      "cell_type": "code",
      "execution_count": null,
      "metadata": {
        "colab": {
          "base_uri": "https://localhost:8080/",
          "height": 328
        },
        "id": "rANpPirjKIzm",
        "outputId": "31a38984-ff3f-45c2-9057-cbb288b08024"
      },
      "outputs": [
        {
          "output_type": "execute_result",
          "data": {
            "text/html": [
              "<div>\n",
              "<style scoped>\n",
              "    .dataframe tbody tr th:only-of-type {\n",
              "        vertical-align: middle;\n",
              "    }\n",
              "\n",
              "    .dataframe tbody tr th {\n",
              "        vertical-align: top;\n",
              "    }\n",
              "\n",
              "    .dataframe thead th {\n",
              "        text-align: right;\n",
              "    }\n",
              "</style>\n",
              "<table border=\"1\" class=\"dataframe\">\n",
              "  <thead>\n",
              "    <tr style=\"text-align: right;\">\n",
              "      <th></th>\n",
              "      <th>count</th>\n",
              "      <th>mean</th>\n",
              "      <th>std</th>\n",
              "      <th>min</th>\n",
              "      <th>25%</th>\n",
              "      <th>50%</th>\n",
              "      <th>75%</th>\n",
              "      <th>max</th>\n",
              "    </tr>\n",
              "  </thead>\n",
              "  <tbody>\n",
              "    <tr>\n",
              "      <th>CreditScore</th>\n",
              "      <td>10000.0</td>\n",
              "      <td>650.528800</td>\n",
              "      <td>96.653299</td>\n",
              "      <td>350.00</td>\n",
              "      <td>584.00</td>\n",
              "      <td>652.000</td>\n",
              "      <td>718.0000</td>\n",
              "      <td>850.00</td>\n",
              "    </tr>\n",
              "    <tr>\n",
              "      <th>IsActiveMember</th>\n",
              "      <td>10000.0</td>\n",
              "      <td>0.515100</td>\n",
              "      <td>0.499797</td>\n",
              "      <td>0.00</td>\n",
              "      <td>0.00</td>\n",
              "      <td>1.000</td>\n",
              "      <td>1.0000</td>\n",
              "      <td>1.00</td>\n",
              "    </tr>\n",
              "    <tr>\n",
              "      <th>Exited</th>\n",
              "      <td>10000.0</td>\n",
              "      <td>0.203700</td>\n",
              "      <td>0.402769</td>\n",
              "      <td>0.00</td>\n",
              "      <td>0.00</td>\n",
              "      <td>0.000</td>\n",
              "      <td>0.0000</td>\n",
              "      <td>1.00</td>\n",
              "    </tr>\n",
              "    <tr>\n",
              "      <th>NumOfProducts</th>\n",
              "      <td>10000.0</td>\n",
              "      <td>1.530200</td>\n",
              "      <td>0.581654</td>\n",
              "      <td>1.00</td>\n",
              "      <td>1.00</td>\n",
              "      <td>1.000</td>\n",
              "      <td>2.0000</td>\n",
              "      <td>4.00</td>\n",
              "    </tr>\n",
              "    <tr>\n",
              "      <th>EstimatedSalary</th>\n",
              "      <td>10000.0</td>\n",
              "      <td>100090.239881</td>\n",
              "      <td>57510.492818</td>\n",
              "      <td>11.58</td>\n",
              "      <td>51002.11</td>\n",
              "      <td>100193.915</td>\n",
              "      <td>149388.2475</td>\n",
              "      <td>199992.48</td>\n",
              "    </tr>\n",
              "    <tr>\n",
              "      <th>HasCrCard</th>\n",
              "      <td>10000.0</td>\n",
              "      <td>0.705500</td>\n",
              "      <td>0.455840</td>\n",
              "      <td>0.00</td>\n",
              "      <td>0.00</td>\n",
              "      <td>1.000</td>\n",
              "      <td>1.0000</td>\n",
              "      <td>1.00</td>\n",
              "    </tr>\n",
              "    <tr>\n",
              "      <th>Age</th>\n",
              "      <td>10000.0</td>\n",
              "      <td>38.921800</td>\n",
              "      <td>10.487806</td>\n",
              "      <td>18.00</td>\n",
              "      <td>32.00</td>\n",
              "      <td>37.000</td>\n",
              "      <td>44.0000</td>\n",
              "      <td>92.00</td>\n",
              "    </tr>\n",
              "    <tr>\n",
              "      <th>Tenure</th>\n",
              "      <td>10000.0</td>\n",
              "      <td>5.012800</td>\n",
              "      <td>2.892174</td>\n",
              "      <td>0.00</td>\n",
              "      <td>3.00</td>\n",
              "      <td>5.000</td>\n",
              "      <td>7.0000</td>\n",
              "      <td>10.00</td>\n",
              "    </tr>\n",
              "    <tr>\n",
              "      <th>Balance</th>\n",
              "      <td>10000.0</td>\n",
              "      <td>76485.889288</td>\n",
              "      <td>62397.405202</td>\n",
              "      <td>0.00</td>\n",
              "      <td>0.00</td>\n",
              "      <td>97198.540</td>\n",
              "      <td>127644.2400</td>\n",
              "      <td>250898.09</td>\n",
              "    </tr>\n",
              "  </tbody>\n",
              "</table>\n",
              "</div>"
            ],
            "text/plain": [
              "                   count           mean  ...          75%        max\n",
              "CreditScore      10000.0     650.528800  ...     718.0000     850.00\n",
              "IsActiveMember   10000.0       0.515100  ...       1.0000       1.00\n",
              "Exited           10000.0       0.203700  ...       0.0000       1.00\n",
              "NumOfProducts    10000.0       1.530200  ...       2.0000       4.00\n",
              "EstimatedSalary  10000.0  100090.239881  ...  149388.2475  199992.48\n",
              "HasCrCard        10000.0       0.705500  ...       1.0000       1.00\n",
              "Age              10000.0      38.921800  ...      44.0000      92.00\n",
              "Tenure           10000.0       5.012800  ...       7.0000      10.00\n",
              "Balance          10000.0   76485.889288  ...  127644.2400  250898.09\n",
              "\n",
              "[9 rows x 8 columns]"
            ]
          },
          "metadata": {},
          "execution_count": 81
        }
      ],
      "source": [
        "cols = set(data.columns) - {'RowNumber','CustomerId'}\n",
        "(data[list(cols)]).describe().T"
      ]
    },
    {
      "cell_type": "markdown",
      "metadata": {
        "id": "mKdSiRrENhVt"
      },
      "source": [
        "Interpretting the Table: \n",
        "\n",
        "* The age of customers ranges from 18 to 92, with a mean value approximately equal to 40,\n",
        "* The mean (and median) tenure is 5 years, so the majority of customers is loyal (tenure > 3), and\n",
        "* Approximately 50% of customers are active."
      ]
    },
    {
      "cell_type": "code",
      "execution_count": null,
      "metadata": {
        "id": "6xZNjnopLMfA"
      },
      "outputs": [],
      "source": [
        "data.rename(columns=\n",
        "        {'RowNumber':'Row_Number',\n",
        "         'CustomerId':'Customer_ID',\n",
        "         'CreditScore':'Credit_Score',\n",
        "         'HasCrCard':'Has_Credit_Card',\n",
        "         'IsActiveMember':'Is_Active_Member',\n",
        "         'NumOfProducts':'Num_Of_Products',\n",
        "         'EstimatedSalary':'Estimated_Salary'}, inplace=True)"
      ]
    },
    {
      "cell_type": "code",
      "execution_count": null,
      "metadata": {
        "colab": {
          "base_uri": "https://localhost:8080/"
        },
        "id": "tt6acm4VQKdq",
        "outputId": "90ca7ff8-df5a-4f56-f658-60572bd83b27"
      },
      "outputs": [
        {
          "output_type": "execute_result",
          "data": {
            "text/plain": [
              "Index(['row_number', 'customer_id', 'surname', 'credit_score', 'geography',\n",
              "       'gender', 'age', 'tenure', 'balance', 'num_of_products',\n",
              "       'has_credit_card', 'is_active_member', 'estimated_salary', 'exited'],\n",
              "      dtype='object')"
            ]
          },
          "metadata": {},
          "execution_count": 83
        }
      ],
      "source": [
        "data.columns = map(str.lower, data.columns)\n",
        "data.columns"
      ]
    },
    {
      "cell_type": "code",
      "execution_count": null,
      "metadata": {
        "colab": {
          "base_uri": "https://localhost:8080/"
        },
        "id": "ewJwXaRyQXLr",
        "outputId": "7904af98-e628-4ce8-f0aa-aa3faebe7a11"
      },
      "outputs": [
        {
          "output_type": "execute_result",
          "data": {
            "text/plain": [
              "Retained    7963\n",
              "Churned     2037\n",
              "Name: exited, dtype: int64"
            ]
          },
          "metadata": {},
          "execution_count": 84
        }
      ],
      "source": [
        "exited_encoded = {0:'Retained',1:'Churned'}\n",
        "data['exited'] = data['exited']\\\n",
        "    .apply(lambda x: exited_encoded[x])\n",
        "data['exited'].value_counts()"
      ]
    },
    {
      "cell_type": "code",
      "execution_count": null,
      "metadata": {
        "colab": {
          "base_uri": "https://localhost:8080/"
        },
        "id": "RImEfWag5Ykl",
        "outputId": "76949c56-cb3f-4f61-da0c-22cd2196b5e8"
      },
      "outputs": [
        {
          "output_type": "execute_result",
          "data": {
            "text/plain": [
              "Yes    5151\n",
              "No     4849\n",
              "Name: is_active_member, dtype: int64"
            ]
          },
          "metadata": {},
          "execution_count": 85
        }
      ],
      "source": [
        "member_encoded = {0:'No',1:'Yes'}\n",
        "data['is_active_member'] = data['is_active_member']\\\n",
        ".apply(lambda x: member_encoded[x])\n",
        "data['is_active_member'].value_counts()"
      ]
    },
    {
      "cell_type": "code",
      "execution_count": null,
      "metadata": {
        "colab": {
          "base_uri": "https://localhost:8080/"
        },
        "id": "1o2QHk0o5YJ2",
        "outputId": "5d6bd201-5793-45f7-cfc8-645a398076bd"
      },
      "outputs": [
        {
          "output_type": "execute_result",
          "data": {
            "text/plain": [
              "Yes    7055\n",
              "No     2945\n",
              "Name: has_credit_card, dtype: int64"
            ]
          },
          "metadata": {},
          "execution_count": 86
        }
      ],
      "source": [
        "card_encoded = {0:'No',1:'Yes'}\n",
        "data['has_credit_card'] = data['has_credit_card'].apply(lambda x: card_encoded[x])\n",
        "data['has_credit_card'].value_counts()"
      ]
    },
    {
      "cell_type": "markdown",
      "metadata": {
        "id": "h2Ax5KVnSxl7"
      },
      "source": [
        "## 3: Exploratory Data Analysis:"
      ]
    },
    {
      "cell_type": "code",
      "execution_count": null,
      "metadata": {
        "colab": {
          "base_uri": "https://localhost:8080/",
          "height": 449
        },
        "id": "4vQnYnkHTT4v",
        "outputId": "b982474a-32ce-445c-a511-936fbba30d9e"
      },
      "outputs": [
        {
          "output_type": "display_data",
          "data": {
            "image/png": "[encoded data removed]",
            "text/plain": [
              "<Figure size 1224x504 with 2 Axes>"
            ]
          },
          "metadata": {
            "needs_background": "light"
          }
        }
      ],
      "source": [
        "colors= ['#3bafda','#bf263c']\n",
        "colors4 = ['#3bafda','#bf263c','#40826d', '#f6bb42']\n",
        "fig, ax = plt.subplots(nrows=1, ncols=2,figsize=(17,7),\n",
        "                       gridspec_kw=\n",
        "                        {'width_ratios':(.4,.6,)})\n",
        "ax[0] = sns.countplot(data=data, x='exited',\n",
        "                  palette=colors, \n",
        "              order=['Retained', 'Churned'], ax=ax[0])\n",
        "ax[1] = sns.countplot(data=data, y='exited', hue='num_of_products', orient='v', ax=ax[1],\n",
        "                      order=['Retained', 'Churned'], palette=colors4)\n",
        "sns.despine(offset=15, trim=True)"
      ]
    },
    {
      "cell_type": "code",
      "execution_count": null,
      "metadata": {
        "colab": {
          "base_uri": "https://localhost:8080/"
        },
        "id": "JIBTA_DzUtj_",
        "outputId": "256a3bf7-9464-4fb6-b496-98e16c898d8f"
      },
      "outputs": [
        {
          "output_type": "execute_result",
          "data": {
            "text/plain": [
              "Index(['row_number', 'customer_id', 'surname', 'credit_score', 'geography',\n",
              "       'gender', 'age', 'tenure', 'balance', 'num_of_products',\n",
              "       'has_credit_card', 'is_active_member', 'estimated_salary', 'exited'],\n",
              "      dtype='object')"
            ]
          },
          "metadata": {},
          "execution_count": 88
        }
      ],
      "source": [
        "data.columns"
      ]
    },
    {
      "cell_type": "code",
      "execution_count": null,
      "metadata": {
        "colab": {
          "base_uri": "https://localhost:8080/",
          "height": 503
        },
        "id": "NG89rCB6VwbE",
        "outputId": "2d0b3f07-779b-49e0-b1eb-202d074fe738"
      },
      "outputs": [
        {
          "output_type": "display_data",
          "data": {
            "image/png": "[encoded data removed]",
            "text/plain": [
              "<Figure size 1224x576 with 2 Axes>"
            ]
          },
          "metadata": {
            "needs_background": "light"
          }
        }
      ],
      "source": [
        "fig, ax = plt.subplots(nrows=1, ncols=2,figsize=(17,8),\n",
        "                       gridspec_kw=\n",
        "                        {'width_ratios':(.4,.6)})\n",
        "ax[0]= sns.countplot(data=data, x='gender',\n",
        "                  palette=colors, \n",
        "              order=['Male', 'Female'], ax=ax[0])\n",
        "\n",
        "ax[1] = sns.countplot(data=data, y='gender', hue='has_credit_card', \n",
        "                      palette=colors, ax=ax[1], orient='v')\n",
        "sns.despine(offset=25, trim=True)"
      ]
    },
    {
      "cell_type": "code",
      "execution_count": null,
      "metadata": {
        "id": "m3udP7OIab-y"
      },
      "outputs": [],
      "source": [
        "continous_cols = ['age', 'credit_score',\n",
        "                 'balance', 'estimated_salary']\n",
        "cat_cols = ['geography','gender','tenure',\n",
        "            'num_of_products','has_credit_card',\n",
        "            'is_active_member']"
      ]
    },
    {
      "cell_type": "code",
      "execution_count": null,
      "metadata": {
        "colab": {
          "base_uri": "https://localhost:8080/",
          "height": 567
        },
        "id": "Q8yvX_35cRmI",
        "outputId": "0ce67419-e316-4530-cbc0-d66ca771be02"
      },
      "outputs": [
        {
          "output_type": "display_data",
          "data": {
            "image/png": "[encoded data removed]",
            "text/plain": [
              "<Figure size 936x648 with 2 Axes>"
            ]
          },
          "metadata": {
            "needs_background": "light"
          }
        }
      ],
      "source": [
        "fig, ax = plt.subplots(nrows=2,ncols=1,\n",
        "                    figsize=(13,9),\n",
        "                    sharex=True,\n",
        "                    gridspec_kw=\n",
        "                        {'height_ratios':(.65,.35)})\n",
        "sns.histplot(data=data,x='age', hue='exited', \n",
        "             palette=colors, ax=ax[0], multiple='stack',\n",
        "             hue_order=['Retained','Churned'])\n",
        "sns.boxplot(data=data, x='age', y='exited',\n",
        "            palette=colors,ax=ax[1], \n",
        "            order=['Retained','Churned'])\n",
        "sns.despine(offset=10, trim=True)"
      ]
    },
    {
      "cell_type": "code",
      "execution_count": null,
      "metadata": {
        "colab": {
          "base_uri": "https://localhost:8080/",
          "height": 567
        },
        "id": "y_YQJTpmdxaq",
        "outputId": "b8e72dad-864a-42da-e25f-b9c4c9f7c048"
      },
      "outputs": [
        {
          "output_type": "display_data",
          "data": {
            "image/png": "[encoded data removed]",
            "text/plain": [
              "<Figure size 936x648 with 2 Axes>"
            ]
          },
          "metadata": {
            "needs_background": "light"
          }
        }
      ],
      "source": [
        "fig, ax = plt.subplots(nrows=2,ncols=1,\n",
        "                    figsize=(13,9),\n",
        "                    sharex=True,\n",
        "                    gridspec_kw=\n",
        "                        {'height_ratios':(.65,.35)})\n",
        "sns.histplot(data=data,x='credit_score', hue='exited', \n",
        "             palette=colors, ax=ax[0],\n",
        "             multiple='stack',\n",
        "             hue_order=['Retained','Churned'])\n",
        "sns.boxplot(data=data, x='credit_score', y='exited',\n",
        "            palette=colors,ax=ax[1], \n",
        "            order=['Retained','Churned'])\n",
        "sns.despine(offset=10, trim=True)"
      ]
    },
    {
      "cell_type": "code",
      "execution_count": null,
      "metadata": {
        "colab": {
          "base_uri": "https://localhost:8080/",
          "height": 567
        },
        "id": "FS8FeNX1e661",
        "outputId": "b42da4e1-eded-4809-997b-8c793bf11f85"
      },
      "outputs": [
        {
          "output_type": "display_data",
          "data": {
            "image/png": "[encoded data removed]",
            "text/plain": [
              "<Figure size 936x648 with 2 Axes>"
            ]
          },
          "metadata": {
            "needs_background": "light"
          }
        }
      ],
      "source": [
        "fig, ax = plt.subplots(nrows=2,ncols=1,\n",
        "                    figsize=(13,9),\n",
        "                    sharex=True,\n",
        "                    gridspec_kw=\n",
        "                        {'height_ratios':(.65,.35)})\n",
        "sns.histplot(data=data,x='estimated_salary', hue='exited', \n",
        "             palette=colors, ax=ax[0],\n",
        "             multiple='stack',\n",
        "             hue_order=['Retained','Churned'])\n",
        "sns.boxplot(data=data, x='estimated_salary', y='exited',\n",
        "            palette=colors,ax=ax[1], \n",
        "            order=['Retained','Churned'])\n",
        "sns.despine(offset=10, trim=True)"
      ]
    },
    {
      "cell_type": "code",
      "execution_count": null,
      "metadata": {
        "colab": {
          "base_uri": "https://localhost:8080/",
          "height": 458
        },
        "id": "Ey6z5tsj4d4U",
        "outputId": "c997f7a4-ae35-4507-9c42-6375edd3f053"
      },
      "outputs": [
        {
          "output_type": "display_data",
          "data": {
            "image/png": "[encoded data removed]",
            "text/plain": [
              "<Figure size 936x504 with 2 Axes>"
            ]
          },
          "metadata": {
            "needs_background": "light"
          }
        }
      ],
      "source": [
        "fig, ax = plt.subplots(nrows=2,ncols=1,\n",
        "                    figsize=(13,7),\n",
        "                    sharex=True,\n",
        "                    gridspec_kw=\n",
        "                        {'height_ratios':(.7,.3)})\n",
        "sns.histplot(data=data,x='balance', hue='exited', \n",
        "             palette=colors, ax=ax[0],\n",
        "             multiple='stack',\n",
        "             hue_order=['Retained','Churned'])\n",
        "sns.boxplot(data=data, x='balance', y='exited',\n",
        "            palette=colors,ax=ax[1], \n",
        "            order=['Retained','Churned'])\n",
        "sns.despine(offset=10, trim=True)"
      ]
    },
    {
      "cell_type": "code",
      "execution_count": null,
      "metadata": {
        "id": "UPjbRiNsz-Za"
      },
      "outputs": [],
      "source": [
        ""
      ]
    },
    {
      "cell_type": "code",
      "execution_count": null,
      "metadata": {
        "colab": {
          "base_uri": "https://localhost:8080/"
        },
        "id": "L67raouq5IJX",
        "outputId": "9a9de466-513c-4244-ed7a-13ecf107ffd1"
      },
      "outputs": [
        {
          "output_type": "execute_result",
          "data": {
            "text/plain": [
              "France     5014\n",
              "Germany    2509\n",
              "Spain      2477\n",
              "Name: geography, dtype: int64"
            ]
          },
          "metadata": {},
          "execution_count": 95
        }
      ],
      "source": [
        "data.geography.value_counts()"
      ]
    },
    {
      "cell_type": "code",
      "execution_count": null,
      "metadata": {
        "colab": {
          "base_uri": "https://localhost:8080/",
          "height": 874
        },
        "id": "ZMVVmcFlA1i_",
        "outputId": "15ae3ad3-fba1-42b7-fb8a-7323cbe7ac8a"
      },
      "outputs": [
        {
          "output_type": "display_data",
          "data": {
            "image/png": "[encoded data removed]",
            "text/plain": [
              "<Figure size 1296x504 with 2 Axes>"
            ]
          },
          "metadata": {
            "needs_background": "light"
          }
        },
        {
          "output_type": "display_data",
          "data": {
            "image/png": "[encoded data removed]",
            "text/plain": [
              "<Figure size 1224x504 with 2 Axes>"
            ]
          },
          "metadata": {
            "needs_background": "light"
          }
        }
      ],
      "source": [
        "colors3 = ['#3bafda','#bf263c','#40826d']\n",
        "france = data['geography'].value_counts()['France']\n",
        "spain = data['geography'].value_counts()['Spain']\n",
        "germany = data['geography'].value_counts()['Germany']\n",
        "names = ['Spain', 'France','Germany']\n",
        "vals = [spain,france, germany]\n",
        "fig, ax = plt.subplots(nrows=1, ncols=2,figsize=(18,7),\n",
        "                       gridspec_kw=\n",
        "                        {'width_ratios':(.45,.55)})\n",
        "ax[0].pie(x=vals, labels= names, shadow=True,\n",
        "        autopct='%1.2f', explode=(0.05,0.05,0.05), \n",
        "        colors=colors3, pctdistance=0.8, labeldistance=1.1)\n",
        "ax[1] = sns.countplot(data=data, x='geography', hue='gender',\n",
        "                      ax=ax[1], palette=colors)\n",
        "sns.despine(offset=20, trim=True)\n",
        "\n",
        "fig, ax = plt.subplots(nrows=1, ncols=2,figsize=(17,7),sharey=True,\n",
        "                       gridspec_kw=\n",
        "                        {'width_ratios':(.4,.6)})\n",
        "sns.countplot(data=data,y='geography',hue='exited', palette=colors,\n",
        "              hue_order=['Retained','Churned'], orient='v',ax=ax[0])\n",
        "\n",
        "sns.countplot(data=data, y='geography', hue='num_of_products', ax=ax[1],\n",
        "              palette=colors4)\n",
        "ax[0].legend(loc='center right')\n",
        "ax[1].legend(loc='center right')\n",
        "sns.despine(offset=10,trim=True)"
      ]
    },
    {
      "cell_type": "code",
      "execution_count": null,
      "metadata": {
        "colab": {
          "base_uri": "https://localhost:8080/",
          "height": 770
        },
        "id": "KrrLayZMq22y",
        "outputId": "8cc3074b-3d26-4a7f-c60d-495ecaaf9936"
      },
      "outputs": [
        {
          "output_type": "display_data",
          "data": {
            "image/png": "[encoded data removed]",
            "text/plain": [
              "<Figure size 1224x432 with 2 Axes>"
            ]
          },
          "metadata": {
            "needs_background": "light"
          }
        },
        {
          "output_type": "display_data",
          "data": {
            "image/png": "[encoded data removed]",
            "text/plain": [
              "<Figure size 1224x432 with 2 Axes>"
            ]
          },
          "metadata": {
            "needs_background": "light"
          }
        }
      ],
      "source": [
        "one = data['num_of_products'].value_counts()[1]\n",
        "two = data['num_of_products'].value_counts()[2]\n",
        "three = data['num_of_products'].value_counts()[3]\n",
        "four = data['num_of_products'].value_counts()[4]\n",
        "names = ['Product 1','Product 3','Product 2','Product 4']\n",
        "vals = [one,three,two, four]\n",
        "fig, ax = plt.subplots(nrows=1, ncols=2,figsize=(17,6),\n",
        "                       gridspec_kw=\n",
        "                        {'width_ratios':(.55,.45)})\n",
        "ax[1].pie(x=vals, labels= names, shadow=True,\n",
        "        autopct='%1.2f', explode=(0.05,0.05,0.05,0.05), \n",
        "        colors=colors4, pctdistance=0.8, labeldistance=1.1)\n",
        "ax[0] = sns.countplot(data=data, x='num_of_products', hue='exited',\n",
        "                      ax=ax[0], palette=colors4, hue_order=['Retained','Churned'])\n",
        "ax[0].legend(loc='best')\n",
        "sns.despine(offset=20, trim=True)\n",
        "fig, ax = plt.subplots(nrows=1, ncols=2,figsize=(17,6),\n",
        "                       gridspec_kw=\n",
        "                        {'width_ratios':(.55,.45)})\n",
        "ax[0] = sns.countplot(data=data, x='num_of_products', hue='is_active_member',\n",
        "                    palette=colors4, hue_order=['Yes','No'], ax=ax[0])\n",
        "ax[1] = sns.countplot(data=data, y='gender', hue='is_active_member', palette=colors,\n",
        "              hue_order=['Yes', 'No'], order=['Male', 'Female'],ax=ax[1])\n",
        "sns.despine(offset=20, trim=True)"
      ]
    },
    {
      "cell_type": "code",
      "execution_count": null,
      "metadata": {
        "colab": {
          "base_uri": "https://localhost:8080/",
          "height": 553
        },
        "id": "TH-wzD7F4AxF",
        "outputId": "854d1613-0b18-4180-8408-94f2d2b2581d"
      },
      "outputs": [
        {
          "output_type": "execute_result",
          "data": {
            "text/plain": [
              "<matplotlib.axes._subplots.AxesSubplot at 0x7f9382f06fd0>"
            ]
          },
          "metadata": {},
          "execution_count": 98
        },
        {
          "output_type": "display_data",
          "data": {
            "image/png": "[encoded data removed]",
            "text/plain": [
              "<Figure size 936x504 with 2 Axes>"
            ]
          },
          "metadata": {
            "needs_background": "light"
          }
        }
      ],
      "source": [
        "cor = data.drop(columns=['row_number','customer_id','surname'], \n",
        "                 axis=1)\n",
        "plt.figure(figsize=(13,7))\n",
        "sns.heatmap(cor.corr(method='spearman'),\n",
        "            cmap='YlGnBu', annot=True)"
      ]
    },
    {
      "cell_type": "code",
      "execution_count": null,
      "metadata": {
        "colab": {
          "base_uri": "https://localhost:8080/"
        },
        "id": "Cmg3yZeNALbR",
        "outputId": "0ea8ac9d-8a4d-45e4-eb98-fb9a58f14468"
      },
      "outputs": [
        {
          "output_type": "execute_result",
          "data": {
            "text/plain": [
              "credit_score        0.023289\n",
              "geography          -0.053092\n",
              "gender              0.106512\n",
              "age                -0.323968\n",
              "tenure              0.013978\n",
              "balance            -0.111110\n",
              "num_of_products     0.125282\n",
              "has_credit_card     0.007138\n",
              "is_active_member    0.156128\n",
              "estimated_salary   -0.012081\n",
              "dtype: float64"
            ]
          },
          "metadata": {},
          "execution_count": 99
        }
      ],
      "source": [
        "corr = cor.drop('exited',axis=1).apply\\\n",
        "(lambda x: x.corr(cor['exited'], method='spearman'))\n",
        "corr"
      ]
    },
    {
      "cell_type": "markdown",
      "metadata": {
        "id": "OOV9ALB9cwT7"
      },
      "source": [
        "# A/B Testing - T-Test & P-Value:"
      ]
    },
    {
      "cell_type": "code",
      "execution_count": null,
      "metadata": {
        "id": "QUAI7Hy4c1vc"
      },
      "outputs": [],
      "source": [
        "from scipy import stats"
      ]
    },
    {
      "cell_type": "code",
      "execution_count": null,
      "metadata": {
        "id": "qgel2D-QO1v1"
      },
      "outputs": [],
      "source": [
        "from scipy.stats import ttest_ind"
      ]
    },
    {
      "cell_type": "code",
      "execution_count": null,
      "metadata": {
        "colab": {
          "base_uri": "https://localhost:8080/"
        },
        "id": "XLIwy_nyc1ll",
        "outputId": "40e8a867-7e49-4b4f-b83c-7b296214af95"
      },
      "outputs": [
        {
          "output_type": "execute_result",
          "data": {
            "text/plain": [
              "has_credit_card\n",
              "No     651.345331\n",
              "Yes    650.187952\n",
              "Name: credit_score, dtype: float64"
            ]
          },
          "metadata": {},
          "execution_count": 102
        }
      ],
      "source": [
        "means_cr = data.groupby('has_credit_card').mean()['credit_score']\n",
        "means_cr"
      ]
    },
    {
      "cell_type": "code",
      "execution_count": null,
      "metadata": {
        "colab": {
          "base_uri": "https://localhost:8080/"
        },
        "id": "URirayYCc1cA",
        "outputId": "56938526-2f6c-4818-baf1-f89990d88a80"
      },
      "outputs": [
        {
          "output_type": "execute_result",
          "data": {
            "text/plain": [
              "has_credit_card\n",
              "No     96.637830\n",
              "Yes    96.664563\n",
              "Name: credit_score, dtype: float64"
            ]
          },
          "metadata": {},
          "execution_count": 103
        }
      ],
      "source": [
        "std_cr = data.groupby('has_credit_card').std()['credit_score']\n",
        "std_cr"
      ]
    },
    {
      "cell_type": "code",
      "execution_count": null,
      "metadata": {
        "colab": {
          "base_uri": "https://localhost:8080/"
        },
        "id": "isXHC2Ikc1QT",
        "outputId": "396a08be-3640-4c87-c764-480488fd3fcf"
      },
      "outputs": [
        {
          "output_type": "execute_result",
          "data": {
            "text/plain": [
              "has_credit_card\n",
              "No     2945\n",
              "Yes    7055\n",
              "Name: credit_score, dtype: int64"
            ]
          },
          "metadata": {},
          "execution_count": 104
        }
      ],
      "source": [
        "ns_cr = data.groupby('has_credit_card').count()['credit_score']\n",
        "ns_cr"
      ]
    },
    {
      "cell_type": "code",
      "execution_count": null,
      "metadata": {
        "colab": {
          "base_uri": "https://localhost:8080/"
        },
        "id": "8AoJheCKeHwl",
        "outputId": "ffd53313-cfd5-454e-ee32-49b0aaf3452c"
      },
      "outputs": [
        {
          "output_type": "execute_result",
          "data": {
            "text/plain": [
              "has_credit_card\n",
              "No     100974.397711\n",
              "Yes     99721.161949\n",
              "Name: estimated_salary, dtype: float64"
            ]
          },
          "metadata": {},
          "execution_count": 105
        }
      ],
      "source": [
        "means_est = data.groupby('has_credit_card').mean()['estimated_salary']\n",
        "means_est"
      ]
    },
    {
      "cell_type": "code",
      "execution_count": null,
      "metadata": {
        "colab": {
          "base_uri": "https://localhost:8080/"
        },
        "id": "2lGnxiK9eHmh",
        "outputId": "f0630940-7fa6-49ec-8329-9e9a2e26f464"
      },
      "outputs": [
        {
          "output_type": "execute_result",
          "data": {
            "text/plain": [
              "has_credit_card\n",
              "No     57761.338594\n",
              "Yes    57405.532277\n",
              "Name: estimated_salary, dtype: float64"
            ]
          },
          "metadata": {},
          "execution_count": 106
        }
      ],
      "source": [
        "std_est = data.groupby('has_credit_card').std()['estimated_salary']\n",
        "std_est"
      ]
    },
    {
      "cell_type": "code",
      "execution_count": null,
      "metadata": {
        "colab": {
          "base_uri": "https://localhost:8080/"
        },
        "id": "C24H1adAjTSZ",
        "outputId": "8568e161-3288-478b-aa51-94943ff6068c"
      },
      "outputs": [
        {
          "output_type": "execute_result",
          "data": {
            "text/plain": [
              "has_credit_card\n",
              "No     2945\n",
              "Yes    7055\n",
              "Name: estimated_salary, dtype: int64"
            ]
          },
          "metadata": {},
          "execution_count": 107
        }
      ],
      "source": [
        "ns_est = data.groupby('has_credit_card').count()['estimated_salary']\n",
        "ns_est"
      ]
    },
    {
      "cell_type": "code",
      "execution_count": null,
      "metadata": {
        "colab": {
          "base_uri": "https://localhost:8080/"
        },
        "id": "s_1uBRp0eHa0",
        "outputId": "76982543-0f54-4a28-84e6-1f973711e48f"
      },
      "outputs": [
        {
          "output_type": "stream",
          "name": "stdout",
          "text": [
            "T-Test Score: 0.545864,\n",
            "P-Value: 0.29259\n"
          ]
        }
      ],
      "source": [
        "t1_v_t2 = (means_cr.iloc[0] - means_cr.iloc[1])/\\\n",
        "np.sqrt(std_cr.iloc[0]**2/ ns_cr.iloc[0]\\\n",
        "    +std_cr.iloc[1]**2/ns_cr.iloc[1])\n",
        "df1_v_df2 = ns_cr.iloc[0] + ns_cr.iloc[1] - 2\n",
        "p1_v_p2 = (1 - stats.t.cdf(t1_v_t2, df=df1_v_df2))\n",
        "print(f'T-Test Score: {t1_v_t2:5f},\\\n",
        "\\nP-Value: {p1_v_p2:.5f}')"
      ]
    },
    {
      "cell_type": "code",
      "execution_count": null,
      "metadata": {
        "colab": {
          "base_uri": "https://localhost:8080/"
        },
        "id": "Q6KQhZ7wc1As",
        "outputId": "33c8457a-d88c-4124-ad98-9b64b3bd6f3a"
      },
      "outputs": [
        {
          "output_type": "stream",
          "name": "stdout",
          "text": [
            "T-Test Score: 0.990772,\n",
            "P-Value: 0.1609105532372096\n"
          ]
        }
      ],
      "source": [
        "t1_v_t2 = (means_est.iloc[0] - means_est.iloc[1])/\\\n",
        "np.sqrt(std_est.iloc[0]**2/ ns_est.iloc[0]\\\n",
        "    +std_est.iloc[1]**2/ns_est.iloc[1])\n",
        "df1_v_df2 = ns_est.iloc[0] + ns_est.iloc[1] - 2\n",
        "p1_v_p2 = (1 - stats.t.cdf(t1_v_t2, df=df1_v_df2))\n",
        "print(f'T-Test Score: {t1_v_t2:3f},\\\n",
        "\\nP-Value: {p1_v_p2}')"
      ]
    },
    {
      "cell_type": "code",
      "execution_count": null,
      "metadata": {
        "colab": {
          "base_uri": "https://localhost:8080/"
        },
        "id": "BKqlEwvTQylA",
        "outputId": "e137ac51-6331-4159-ec09-2a8c5e50d5d7"
      },
      "outputs": [
        {
          "output_type": "stream",
          "name": "stdout",
          "text": [
            "Statistic Value: [-29.76681499],\n",
            "P-Value: [1.23993131e-186]\n"
          ]
        }
      ],
      "source": [
        "age = ['age']\n",
        "\n",
        "# test mean for age of exiting people\n",
        "retained_mask = data['exited'] == 'Retained'\n",
        "age_retained = data.loc[retained_mask, age]\n",
        "age_non_retained = data.loc[~retained_mask, age]\n",
        "retained_test = ttest_ind(age_retained, age_non_retained)\n",
        "print(f'Statistic Value: {retained_test[0]},\\\n",
        "\\nP-Value: {retained_test[1]}')"
      ]
    },
    {
      "cell_type": "code",
      "execution_count": null,
      "metadata": {
        "colab": {
          "base_uri": "https://localhost:8080/"
        },
        "id": "Zq7q1A-QO-vu",
        "outputId": "214d1e19-f15e-4eda-c880-66cc74cbf235"
      },
      "outputs": [
        {
          "output_type": "stream",
          "name": "stdout",
          "text": [
            "Statistic Value: [1.40005844],\n",
            "P-Value: [0.16152685]\n"
          ]
        }
      ],
      "source": [
        "tenure = ['tenure']\n",
        "\n",
        "# test mean from tenures\n",
        "retained_mask = data['exited'] == 'Retained'\n",
        "tenure_retained = data.loc[retained_mask, tenure]\n",
        "tenure_non_retained = data.loc[~retained_mask, tenure]\n",
        "retained_test = ttest_ind(tenure_retained, tenure_non_retained)\n",
        "print(f'Statistic Value: {retained_test[0]},\\\n",
        "\\nP-Value: {retained_test[1]}')"
      ]
    },
    {
      "cell_type": "code",
      "execution_count": null,
      "metadata": {
        "colab": {
          "base_uri": "https://localhost:8080/"
        },
        "id": "IugGA9ZnUGmV",
        "outputId": "35e21aff-42c7-420a-8e3f-8c2afb4f4b19"
      },
      "outputs": [
        {
          "output_type": "stream",
          "name": "stdout",
          "text": [
            "Statistic Value: [2.71007789],\n",
            "P-Value: [0.00673821]\n"
          ]
        }
      ],
      "source": [
        "credit = ['credit_score']\n",
        "\n",
        "# test mean for credit score\n",
        "retained_mask = data['exited'] == 'Retained'\n",
        "credit_retained = data.loc[retained_mask, credit]\n",
        "credit_non_retained = data.loc[~retained_mask, credit]\n",
        "retained_test = ttest_ind(credit_retained, credit_non_retained)\n",
        "print(f'Statistic Value: {retained_test[0]},\\\n",
        "\\nP-Value: {retained_test[1]}')"
      ]
    },
    {
      "cell_type": "markdown",
      "metadata": {
        "id": "p78neFVfqnbG"
      },
      "source": [
        "# Machine Learning:"
      ]
    },
    {
      "cell_type": "code",
      "execution_count": null,
      "metadata": {
        "id": "M1mu1_7kpJ86"
      },
      "outputs": [],
      "source": [
        "continous_cols = ['age', 'credit_score',\n",
        "                 'balance', 'estimated_salary']\n",
        "cat_cols = ['gender','tenure',\n",
        "            'num_of_products','has_credit_card',\n",
        "            'is_active_member']\n",
        "all_features = continous_cols + cat_cols"
      ]
    },
    {
      "cell_type": "code",
      "execution_count": null,
      "metadata": {
        "colab": {
          "base_uri": "https://localhost:8080/"
        },
        "id": "zD-NvsRLpJwV",
        "outputId": "21d5c679-a3a2-41a0-b9af-bbfc03cdf47f"
      },
      "outputs": [
        {
          "output_type": "execute_result",
          "data": {
            "text/plain": [
              "0    7963\n",
              "1    2037\n",
              "Name: exited, dtype: int64"
            ]
          },
          "metadata": {},
          "execution_count": 114
        }
      ],
      "source": [
        "exited_encoded = {'Retained':0,'Churned':1}\n",
        "data['exited'] = data['exited']\\\n",
        "    .apply(lambda x: exited_encoded[x])\n",
        "data['exited'].value_counts()\n"
      ]
    },
    {
      "cell_type": "code",
      "source": [
        "from sklearn.preprocessing import LabelEncoder\n",
        "labels = LabelEncoder()\n",
        "labels.fit(cat_cols)"
      ],
      "metadata": {
        "colab": {
          "base_uri": "https://localhost:8080/"
        },
        "id": "k_XJijYZict8",
        "outputId": "c8db52f7-5a47-494d-8788-f59ff1437d00"
      },
      "execution_count": null,
      "outputs": [
        {
          "output_type": "execute_result",
          "data": {
            "text/plain": [
              "LabelEncoder()"
            ]
          },
          "metadata": {},
          "execution_count": 132
        }
      ]
    },
    {
      "cell_type": "code",
      "execution_count": null,
      "metadata": {
        "colab": {
          "base_uri": "https://localhost:8080/",
          "height": 224
        },
        "id": "zTXoZmhBmGfo",
        "outputId": "03d8a20f-62e1-488a-d1ef-5cae7fc44cfc"
      },
      "outputs": [
        {
          "output_type": "execute_result",
          "data": {
            "text/html": [
              "<div>\n",
              "<style scoped>\n",
              "    .dataframe tbody tr th:only-of-type {\n",
              "        vertical-align: middle;\n",
              "    }\n",
              "\n",
              "    .dataframe tbody tr th {\n",
              "        vertical-align: top;\n",
              "    }\n",
              "\n",
              "    .dataframe thead th {\n",
              "        text-align: right;\n",
              "    }\n",
              "</style>\n",
              "<table border=\"1\" class=\"dataframe\">\n",
              "  <thead>\n",
              "    <tr style=\"text-align: right;\">\n",
              "      <th></th>\n",
              "      <th>credit_score</th>\n",
              "      <th>age</th>\n",
              "      <th>balance</th>\n",
              "      <th>estimated_salary</th>\n",
              "      <th>exited</th>\n",
              "      <th>gender_Male</th>\n",
              "      <th>tenure_1</th>\n",
              "      <th>tenure_2</th>\n",
              "      <th>tenure_3</th>\n",
              "      <th>tenure_4</th>\n",
              "      <th>tenure_5</th>\n",
              "      <th>tenure_6</th>\n",
              "      <th>tenure_7</th>\n",
              "      <th>tenure_8</th>\n",
              "      <th>tenure_9</th>\n",
              "      <th>tenure_10</th>\n",
              "      <th>num_of_products_2</th>\n",
              "      <th>num_of_products_3</th>\n",
              "      <th>num_of_products_4</th>\n",
              "      <th>has_credit_card_Yes</th>\n",
              "      <th>is_active_member_Yes</th>\n",
              "    </tr>\n",
              "  </thead>\n",
              "  <tbody>\n",
              "    <tr>\n",
              "      <th>0</th>\n",
              "      <td>619</td>\n",
              "      <td>42</td>\n",
              "      <td>0.00</td>\n",
              "      <td>101348.88</td>\n",
              "      <td>1</td>\n",
              "      <td>0</td>\n",
              "      <td>0</td>\n",
              "      <td>1</td>\n",
              "      <td>0</td>\n",
              "      <td>0</td>\n",
              "      <td>0</td>\n",
              "      <td>0</td>\n",
              "      <td>0</td>\n",
              "      <td>0</td>\n",
              "      <td>0</td>\n",
              "      <td>0</td>\n",
              "      <td>0</td>\n",
              "      <td>0</td>\n",
              "      <td>0</td>\n",
              "      <td>1</td>\n",
              "      <td>1</td>\n",
              "    </tr>\n",
              "    <tr>\n",
              "      <th>1</th>\n",
              "      <td>608</td>\n",
              "      <td>41</td>\n",
              "      <td>83807.86</td>\n",
              "      <td>112542.58</td>\n",
              "      <td>0</td>\n",
              "      <td>0</td>\n",
              "      <td>1</td>\n",
              "      <td>0</td>\n",
              "      <td>0</td>\n",
              "      <td>0</td>\n",
              "      <td>0</td>\n",
              "      <td>0</td>\n",
              "      <td>0</td>\n",
              "      <td>0</td>\n",
              "      <td>0</td>\n",
              "      <td>0</td>\n",
              "      <td>0</td>\n",
              "      <td>0</td>\n",
              "      <td>0</td>\n",
              "      <td>0</td>\n",
              "      <td>1</td>\n",
              "    </tr>\n",
              "    <tr>\n",
              "      <th>2</th>\n",
              "      <td>502</td>\n",
              "      <td>42</td>\n",
              "      <td>159660.80</td>\n",
              "      <td>113931.57</td>\n",
              "      <td>1</td>\n",
              "      <td>0</td>\n",
              "      <td>0</td>\n",
              "      <td>0</td>\n",
              "      <td>0</td>\n",
              "      <td>0</td>\n",
              "      <td>0</td>\n",
              "      <td>0</td>\n",
              "      <td>0</td>\n",
              "      <td>1</td>\n",
              "      <td>0</td>\n",
              "      <td>0</td>\n",
              "      <td>0</td>\n",
              "      <td>1</td>\n",
              "      <td>0</td>\n",
              "      <td>1</td>\n",
              "      <td>0</td>\n",
              "    </tr>\n",
              "    <tr>\n",
              "      <th>3</th>\n",
              "      <td>699</td>\n",
              "      <td>39</td>\n",
              "      <td>0.00</td>\n",
              "      <td>93826.63</td>\n",
              "      <td>0</td>\n",
              "      <td>0</td>\n",
              "      <td>1</td>\n",
              "      <td>0</td>\n",
              "      <td>0</td>\n",
              "      <td>0</td>\n",
              "      <td>0</td>\n",
              "      <td>0</td>\n",
              "      <td>0</td>\n",
              "      <td>0</td>\n",
              "      <td>0</td>\n",
              "      <td>0</td>\n",
              "      <td>1</td>\n",
              "      <td>0</td>\n",
              "      <td>0</td>\n",
              "      <td>0</td>\n",
              "      <td>0</td>\n",
              "    </tr>\n",
              "    <tr>\n",
              "      <th>4</th>\n",
              "      <td>850</td>\n",
              "      <td>43</td>\n",
              "      <td>125510.82</td>\n",
              "      <td>79084.10</td>\n",
              "      <td>0</td>\n",
              "      <td>0</td>\n",
              "      <td>0</td>\n",
              "      <td>1</td>\n",
              "      <td>0</td>\n",
              "      <td>0</td>\n",
              "      <td>0</td>\n",
              "      <td>0</td>\n",
              "      <td>0</td>\n",
              "      <td>0</td>\n",
              "      <td>0</td>\n",
              "      <td>0</td>\n",
              "      <td>0</td>\n",
              "      <td>0</td>\n",
              "      <td>0</td>\n",
              "      <td>1</td>\n",
              "      <td>1</td>\n",
              "    </tr>\n",
              "  </tbody>\n",
              "</table>\n",
              "</div>"
            ],
            "text/plain": [
              "   credit_score  age  ...  has_credit_card_Yes  is_active_member_Yes\n",
              "0           619   42  ...                    1                     1\n",
              "1           608   41  ...                    0                     1\n",
              "2           502   42  ...                    1                     0\n",
              "3           699   39  ...                    0                     0\n",
              "4           850   43  ...                    1                     1\n",
              "\n",
              "[5 rows x 21 columns]"
            ]
          },
          "metadata": {},
          "execution_count": 115
        }
      ],
      "source": [
        "df = pd.get_dummies(data, columns=cat_cols, drop_first=True)\n",
        "df.drop(columns=['row_number','customer_id','surname', 'geography'], axis=1, inplace=True)\n",
        "df.head()"
      ]
    },
    {
      "cell_type": "code",
      "execution_count": null,
      "metadata": {
        "id": "3j3rpKQd1kVo"
      },
      "outputs": [],
      "source": [
        "from sklearn.model_selection import train_test_split\n",
        "X = df.drop('exited', axis=1).values\n",
        "y = df['exited'].values"
      ]
    },
    {
      "cell_type": "code",
      "execution_count": null,
      "metadata": {
        "id": "kyUxPdBT13iV"
      },
      "outputs": [],
      "source": [
        "X_train, X_test, y_train, y_test = \\\n",
        "train_test_split(X, y, test_size=0.2, \n",
        "                 random_state=21)"
      ]
    },
    {
      "cell_type": "code",
      "execution_count": null,
      "metadata": {
        "id": "AIpnGyDb2nk2"
      },
      "outputs": [],
      "source": [
        "from sklearn.preprocessing import MinMaxScaler\n",
        "scaler = MinMaxScaler()\n",
        "scaled_X_train = scaler.fit_transform(X_train)\n",
        "scaled_X_test = scaler.transform(X_test)"
      ]
    },
    {
      "cell_type": "code",
      "execution_count": null,
      "metadata": {
        "colab": {
          "base_uri": "https://localhost:8080/"
        },
        "id": "q6yGGZGf29DM",
        "outputId": "ee1c7767-bf6f-442c-99b4-b8e5ceeb6f7d"
      },
      "outputs": [
        {
          "output_type": "stream",
          "name": "stdout",
          "text": [
            "Input TrainingShape: (8000, 20)\n",
            "Target Training Shape: (8000,)\n",
            "Input Test Shape: (2000, 20)\n",
            "Target Test Shape: (2000,)\n"
          ]
        }
      ],
      "source": [
        "print(f'Input TrainingShape: {scaled_X_train.shape}\\\n",
        "\\nTarget Training Shape: {y_train.shape}\\\n",
        "\\nInput Test Shape: {scaled_X_test.shape}\\\n",
        "\\nTarget Test Shape: {y_test.shape}')"
      ]
    },
    {
      "cell_type": "markdown",
      "source": [
        "## Logistic Regression:"
      ],
      "metadata": {
        "id": "IfArZ-CG8RE5"
      }
    },
    {
      "cell_type": "code",
      "source": [
        "from sklearn.linear_model import LogisticRegression\n",
        "from sklearn.metrics import roc_curve, accuracy_score,precision_score, recall_score, roc_auc_score\n",
        "logreg = LogisticRegression()\n",
        "logreg.fit(scaled_X_train, y_train)\n",
        "predictions = logreg.predict(scaled_X_test)\n",
        "accuracy = accuracy_score(y_test, predictions)\n",
        "precision = precision_score(y_test, predictions)\n",
        "recall = recall_score(y_test, predictions)\n",
        "auc = roc_auc_score(y_test, predictions)\n",
        "print(f'Accuracy Score: {accuracy}\\\n",
        "\\nPrecision Score: {precision}\\\n",
        "\\nRecall Score: {recall}\\\n",
        "\\nArea Under the Curve: {auc}')"
      ],
      "metadata": {
        "colab": {
          "base_uri": "https://localhost:8080/"
        },
        "id": "AlSuBRkyx7tt",
        "outputId": "7362a42e-b501-453b-da40-304003fd91e5"
      },
      "execution_count": null,
      "outputs": [
        {
          "output_type": "stream",
          "name": "stdout",
          "text": [
            "Accuracy Score: 0.833\n",
            "Precision Score: 0.675531914893617\n",
            "Recall Score: 0.3175\n",
            "Area Under the Curve: 0.6396875\n"
          ]
        }
      ]
    },
    {
      "cell_type": "code",
      "source": [
        "pred_prob = logreg.predict_proba(scaled_X_test)[:,1]\n",
        "fpr, tpr, threshold = roc_curve(y_test, pred_prob)\n",
        "plt.figure(figsize=(13,7))\n",
        "plt.plot([0,1],[0,1],'-', color='#323133')\n",
        "plt.plot(fpr, tpr, label='Logistic Regression', color='#bf263c')\n",
        "plt.xlabel('False Positive Rate')\n",
        "plt.ylabel('True Positive Rate')\n",
        "plt.title('Area Under the Curve - Logistic Regression')\n",
        "sns.despine(trim=True, offset=20)\n",
        "plt.show()"
      ],
      "metadata": {
        "colab": {
          "base_uri": "https://localhost:8080/",
          "height": 489
        },
        "id": "loI5RHx3yWvI",
        "outputId": "8c52e166-d377-4166-a85a-c285d148ec01"
      },
      "execution_count": null,
      "outputs": [
        {
          "output_type": "display_data",
          "data": {
            "image/png": "[encoded data removed]",
            "text/plain": [
              "<Figure size 936x504 with 1 Axes>"
            ]
          },
          "metadata": {
            "needs_background": "light"
          }
        }
      ]
    },
    {
      "cell_type": "code",
      "source": [
        "from sklearn.model_selection import GridSearchCV\n",
        "param_grid = {'penalty':['l1','l2','elastinet'],\n",
        "              'C':[0.4,0.8,2,6],\n",
        "              'solver':['liblinear','newton-cg', 'saga']}\n",
        "logreg_cv = GridSearchCV(logreg, param_grid, cv=10)\n",
        "logreg_cv.fit(scaled_X_train,y_train)\n",
        "logreg_cv.best_params_"
      ],
      "metadata": {
        "colab": {
          "base_uri": "https://localhost:8080/"
        },
        "id": "Y67Pr0b53yBT",
        "outputId": "26f3f4ae-870a-46f1-e8be-4ef68a62176d"
      },
      "execution_count": null,
      "outputs": [
        {
          "output_type": "stream",
          "name": "stderr",
          "text": [
            "/usr/local/lib/python3.7/dist-packages/sklearn/linear_model/_sag.py:354: ConvergenceWarning:\n",
            "\n",
            "The max_iter was reached which means the coef_ did not converge\n",
            "\n",
            "/usr/local/lib/python3.7/dist-packages/sklearn/linear_model/_sag.py:354: ConvergenceWarning:\n",
            "\n",
            "The max_iter was reached which means the coef_ did not converge\n",
            "\n",
            "/usr/local/lib/python3.7/dist-packages/sklearn/linear_model/_sag.py:354: ConvergenceWarning:\n",
            "\n",
            "The max_iter was reached which means the coef_ did not converge\n",
            "\n",
            "/usr/local/lib/python3.7/dist-packages/sklearn/linear_model/_sag.py:354: ConvergenceWarning:\n",
            "\n",
            "The max_iter was reached which means the coef_ did not converge\n",
            "\n",
            "/usr/local/lib/python3.7/dist-packages/sklearn/linear_model/_sag.py:354: ConvergenceWarning:\n",
            "\n",
            "The max_iter was reached which means the coef_ did not converge\n",
            "\n",
            "/usr/local/lib/python3.7/dist-packages/sklearn/linear_model/_sag.py:354: ConvergenceWarning:\n",
            "\n",
            "The max_iter was reached which means the coef_ did not converge\n",
            "\n",
            "/usr/local/lib/python3.7/dist-packages/sklearn/linear_model/_sag.py:354: ConvergenceWarning:\n",
            "\n",
            "The max_iter was reached which means the coef_ did not converge\n",
            "\n",
            "/usr/local/lib/python3.7/dist-packages/sklearn/linear_model/_sag.py:354: ConvergenceWarning:\n",
            "\n",
            "The max_iter was reached which means the coef_ did not converge\n",
            "\n",
            "/usr/local/lib/python3.7/dist-packages/sklearn/linear_model/_sag.py:354: ConvergenceWarning:\n",
            "\n",
            "The max_iter was reached which means the coef_ did not converge\n",
            "\n",
            "/usr/local/lib/python3.7/dist-packages/sklearn/linear_model/_sag.py:354: ConvergenceWarning:\n",
            "\n",
            "The max_iter was reached which means the coef_ did not converge\n",
            "\n",
            "/usr/local/lib/python3.7/dist-packages/sklearn/model_selection/_validation.py:372: FitFailedWarning:\n",
            "\n",
            "\n",
            "160 fits failed out of a total of 360.\n",
            "The score on these train-test partitions for these parameters will be set to nan.\n",
            "If these failures are not expected, you can try to debug them by setting error_score='raise'.\n",
            "\n",
            "Below are more details about the failures:\n",
            "--------------------------------------------------------------------------------\n",
            "40 fits failed with the following error:\n",
            "Traceback (most recent call last):\n",
            "  File \"/usr/local/lib/python3.7/dist-packages/sklearn/model_selection/_validation.py\", line 681, in _fit_and_score\n",
            "    estimator.fit(X_train, y_train, **fit_params)\n",
            "  File \"/usr/local/lib/python3.7/dist-packages/sklearn/linear_model/_logistic.py\", line 1461, in fit\n",
            "    solver = _check_solver(self.solver, self.penalty, self.dual)\n",
            "  File \"/usr/local/lib/python3.7/dist-packages/sklearn/linear_model/_logistic.py\", line 449, in _check_solver\n",
            "    % (solver, penalty)\n",
            "ValueError: Solver newton-cg supports only 'l2' or 'none' penalties, got l1 penalty.\n",
            "\n",
            "--------------------------------------------------------------------------------\n",
            "120 fits failed with the following error:\n",
            "Traceback (most recent call last):\n",
            "  File \"/usr/local/lib/python3.7/dist-packages/sklearn/model_selection/_validation.py\", line 681, in _fit_and_score\n",
            "    estimator.fit(X_train, y_train, **fit_params)\n",
            "  File \"/usr/local/lib/python3.7/dist-packages/sklearn/linear_model/_logistic.py\", line 1461, in fit\n",
            "    solver = _check_solver(self.solver, self.penalty, self.dual)\n",
            "  File \"/usr/local/lib/python3.7/dist-packages/sklearn/linear_model/_logistic.py\", line 443, in _check_solver\n",
            "    % (all_penalties, penalty)\n",
            "ValueError: Logistic Regression supports only penalties in ['l1', 'l2', 'elasticnet', 'none'], got elastinet.\n",
            "\n",
            "\n",
            "/usr/local/lib/python3.7/dist-packages/sklearn/model_selection/_search.py:972: UserWarning:\n",
            "\n",
            "One or more of the test scores are non-finite: [0.83675       nan 0.836125 0.835625 0.83575  0.83575       nan      nan\n",
            "      nan 0.83575       nan 0.835875 0.83575  0.836    0.836         nan\n",
            "      nan      nan 0.836125      nan 0.835875 0.835625 0.835625 0.835625\n",
            "      nan      nan      nan 0.835875      nan 0.835875 0.835625 0.835625\n",
            " 0.835625      nan      nan      nan]\n",
            "\n"
          ]
        },
        {
          "output_type": "execute_result",
          "data": {
            "text/plain": [
              "{'C': 0.4, 'penalty': 'l1', 'solver': 'liblinear'}"
            ]
          },
          "metadata": {},
          "execution_count": 122
        }
      ]
    },
    {
      "cell_type": "code",
      "source": [
        "logreg_cv.best_score_"
      ],
      "metadata": {
        "colab": {
          "base_uri": "https://localhost:8080/"
        },
        "id": "fqL9M9Md4vG4",
        "outputId": "f63f6ad1-d3d4-44e6-8469-7c62de439a81"
      },
      "execution_count": null,
      "outputs": [
        {
          "output_type": "execute_result",
          "data": {
            "text/plain": [
              "0.83675"
            ]
          },
          "metadata": {},
          "execution_count": 123
        }
      ]
    },
    {
      "cell_type": "markdown",
      "source": [
        "## Random Forest Model:"
      ],
      "metadata": {
        "id": "QWG465F08OlT"
      }
    },
    {
      "cell_type": "code",
      "source": [
        "from sklearn.ensemble import RandomForestClassifier"
      ],
      "metadata": {
        "id": "dV0DtIfZ7Zj_"
      },
      "execution_count": null,
      "outputs": []
    },
    {
      "cell_type": "code",
      "source": [
        "forest = RandomForestClassifier(\n",
        "    n_estimators=200, max_depth=5, min_samples_leaf=4)\n",
        "forest.fit(scaled_X_train, y_train)\n",
        "predcitions = forest.predict(scaled_X_test)\n",
        "accuracy = accuracy_score(y_test, predictions)\n",
        "precision = precision_score(y_test, predictions)\n",
        "recall = recall_score(y_test, predictions)\n",
        "auc = roc_auc_score(y_test, predictions)\n",
        "print(f'Accuracy Score: {accuracy}\\\n",
        "\\nPrecision Score: {precision}\\\n",
        "\\nRecall Score: {recall}\\\n",
        "\\nArea Under the Curve: {auc}')"
      ],
      "metadata": {
        "colab": {
          "base_uri": "https://localhost:8080/"
        },
        "id": "gJYNvPfE7oWU",
        "outputId": "97209839-011f-456f-f9ab-530cf2839f80"
      },
      "execution_count": null,
      "outputs": [
        {
          "output_type": "stream",
          "name": "stdout",
          "text": [
            "Accuracy Score: 0.833\n",
            "Precision Score: 0.675531914893617\n",
            "Recall Score: 0.3175\n",
            "Area Under the Curve: 0.6396875\n"
          ]
        }
      ]
    },
    {
      "cell_type": "code",
      "source": [
        "pred_prob = forest.predict_proba(scaled_X_test)[:,1]\n",
        "fpr, tpr, threshold = roc_curve(y_test, pred_prob)\n",
        "plt.figure(figsize=(13,7))\n",
        "plt.plot([0,1],[0,1],'-', color='#323133')\n",
        "plt.plot(fpr, tpr, label='Random Forest', color='#bf263c')\n",
        "plt.xlabel('False Positive Rate')\n",
        "plt.ylabel('True Positive Rate')\n",
        "plt.title('Area Under the Curve - Random Forest')\n",
        "sns.despine(trim=True, offset=20)\n",
        "plt.show()"
      ],
      "metadata": {
        "colab": {
          "base_uri": "https://localhost:8080/",
          "height": 489
        },
        "id": "kA5LYijC99rU",
        "outputId": "fa0eb4f2-9406-45a5-bf41-4a0a2b12ba91"
      },
      "execution_count": null,
      "outputs": [
        {
          "output_type": "display_data",
          "data": {
            "image/png": "[encoded data removed]",
            "text/plain": [
              "<Figure size 936x504 with 1 Axes>"
            ]
          },
          "metadata": {
            "needs_background": "light"
          }
        }
      ]
    },
    {
      "cell_type": "markdown",
      "source": [
        "## Model Development:"
      ],
      "metadata": {
        "id": "SEFFzvLBilAr"
      }
    },
    {
      "cell_type": "code",
      "source": [
        "from sklearn.linear_model import LogisticRegression\n",
        "from sklearn.svm import LinearSVC, SVC\n",
        "from sklearn.neighbors import KNeighborsClassifier\n",
        "from sklearn.ensemble import RandomForestClassifier\n",
        "from sklearn.tree import DecisionTreeClassifier\n",
        "from sklearn.metrics import accuracy_score, precision_score,\\\n",
        "    recall_score, roc_auc_score"
      ],
      "metadata": {
        "id": "-tdUR3I4iiXy"
      },
      "execution_count": null,
      "outputs": []
    },
    {
      "cell_type": "code",
      "source": [
        "models = [LogisticRegression(), \n",
        "          LinearSVC(), SVC(),\n",
        "          KNeighborsClassifier(),\n",
        "          RandomForestClassifier(),\n",
        "          DecisionTreeClassifier()]\n",
        "model_names = ['Logistic Regression', 'Linear SVM', \n",
        "               'RBFSVM', 'K-Nearest Neighbors',\n",
        "               'Random Forest', 'Decision Tree']"
      ],
      "metadata": {
        "id": "RqHwFn21iiBR"
      },
      "execution_count": null,
      "outputs": []
    },
    {
      "cell_type": "code",
      "source": [
        "accuracy = []\n",
        "precision = []\n",
        "recall = []\n",
        "roc = []\n",
        "eval = {}\n",
        "for model in range(len(models)):\n",
        "    classification_model = models[model]\n",
        "    classification_model.fit(X_train, y_train)\n",
        "    predicitions = classification_model.predict(X_test)\n",
        "    accuracy.append(accuracy_score(y_test, predictions))\n",
        "    precision.append(precision_score(y_test, predictions))\n",
        "    recall.append(recall_score(y_test, predictions))\n",
        "    roc.append(roc_auc_score(y_test, predictions))\n",
        "\n",
        "eval = {'Modelling Algorithm': model_names, \n",
        "        'Accuracy Score': accuracy,\n",
        "        'Precision Score':precision,\n",
        "        'Recall Score': recall,\n",
        "        'Area Under the Curve': roc}"
      ],
      "metadata": {
        "colab": {
          "base_uri": "https://localhost:8080/"
        },
        "id": "L984-Yl0ih8p",
        "outputId": "58a2bd80-f60e-4e9c-fc36-e2a587f5e50f"
      },
      "execution_count": null,
      "outputs": [
        {
          "output_type": "stream",
          "name": "stderr",
          "text": [
            "/usr/local/lib/python3.7/dist-packages/sklearn/svm/_base.py:1208: ConvergenceWarning:\n",
            "\n",
            "Liblinear failed to converge, increase the number of iterations.\n",
            "\n"
          ]
        }
      ]
    },
    {
      "cell_type": "code",
      "source": [
        "metrics_table = pd.DataFrame(eval)\n",
        "metrics_table"
      ],
      "metadata": {
        "colab": {
          "base_uri": "https://localhost:8080/",
          "height": 235
        },
        "id": "Fc_c4T5Jih5d",
        "outputId": "70eadbf0-8d8c-4545-f61e-8ee1464e91fe"
      },
      "execution_count": null,
      "outputs": [
        {
          "output_type": "execute_result",
          "data": {
            "text/html": [
              "<div>\n",
              "<style scoped>\n",
              "    .dataframe tbody tr th:only-of-type {\n",
              "        vertical-align: middle;\n",
              "    }\n",
              "\n",
              "    .dataframe tbody tr th {\n",
              "        vertical-align: top;\n",
              "    }\n",
              "\n",
              "    .dataframe thead th {\n",
              "        text-align: right;\n",
              "    }\n",
              "</style>\n",
              "<table border=\"1\" class=\"dataframe\">\n",
              "  <thead>\n",
              "    <tr style=\"text-align: right;\">\n",
              "      <th></th>\n",
              "      <th>Modelling Algorithm</th>\n",
              "      <th>Accuracy Score</th>\n",
              "      <th>Precision Score</th>\n",
              "      <th>Recall Score</th>\n",
              "      <th>Area Under the Curve</th>\n",
              "    </tr>\n",
              "  </thead>\n",
              "  <tbody>\n",
              "    <tr>\n",
              "      <th>0</th>\n",
              "      <td>Logistic Regression</td>\n",
              "      <td>0.833</td>\n",
              "      <td>0.675532</td>\n",
              "      <td>0.3175</td>\n",
              "      <td>0.639687</td>\n",
              "    </tr>\n",
              "    <tr>\n",
              "      <th>1</th>\n",
              "      <td>Linear SVM</td>\n",
              "      <td>0.833</td>\n",
              "      <td>0.675532</td>\n",
              "      <td>0.3175</td>\n",
              "      <td>0.639687</td>\n",
              "    </tr>\n",
              "    <tr>\n",
              "      <th>2</th>\n",
              "      <td>RBFSVM</td>\n",
              "      <td>0.833</td>\n",
              "      <td>0.675532</td>\n",
              "      <td>0.3175</td>\n",
              "      <td>0.639687</td>\n",
              "    </tr>\n",
              "    <tr>\n",
              "      <th>3</th>\n",
              "      <td>K-Nearest Neighbors</td>\n",
              "      <td>0.833</td>\n",
              "      <td>0.675532</td>\n",
              "      <td>0.3175</td>\n",
              "      <td>0.639687</td>\n",
              "    </tr>\n",
              "    <tr>\n",
              "      <th>4</th>\n",
              "      <td>Random Forest</td>\n",
              "      <td>0.833</td>\n",
              "      <td>0.675532</td>\n",
              "      <td>0.3175</td>\n",
              "      <td>0.639687</td>\n",
              "    </tr>\n",
              "    <tr>\n",
              "      <th>5</th>\n",
              "      <td>Decision Tree</td>\n",
              "      <td>0.833</td>\n",
              "      <td>0.675532</td>\n",
              "      <td>0.3175</td>\n",
              "      <td>0.639687</td>\n",
              "    </tr>\n",
              "  </tbody>\n",
              "</table>\n",
              "</div>"
            ],
            "text/plain": [
              "   Modelling Algorithm  Accuracy Score  ...  Recall Score  Area Under the Curve\n",
              "0  Logistic Regression           0.833  ...        0.3175              0.639687\n",
              "1           Linear SVM           0.833  ...        0.3175              0.639687\n",
              "2               RBFSVM           0.833  ...        0.3175              0.639687\n",
              "3  K-Nearest Neighbors           0.833  ...        0.3175              0.639687\n",
              "4        Random Forest           0.833  ...        0.3175              0.639687\n",
              "5        Decision Tree           0.833  ...        0.3175              0.639687\n",
              "\n",
              "[6 rows x 5 columns]"
            ]
          },
          "metadata": {},
          "execution_count": 130
        }
      ]
    },
    {
      "cell_type": "code",
      "source": [
        ""
      ],
      "metadata": {
        "id": "9Q9wUwX-ihyh"
      },
      "execution_count": null,
      "outputs": []
    },
    {
      "cell_type": "code",
      "source": [
        ""
      ],
      "metadata": {
        "id": "npn3WlpV-LAA"
      },
      "execution_count": null,
      "outputs": []
    }
  ],
  "metadata": {
    "colab": {
      "collapsed_sections": [],
      "name": "Churn Prediction.ipynb",
      "provenance": []
    },
    "kernelspec": {
      "display_name": "Python 3",
      "name": "python3"
    },
    "language_info": {
      "name": "python"
    }
  },
  "nbformat": 4,
  "nbformat_minor": 0
}