{
  "nbformat": 4,
  "nbformat_minor": 0,
  "metadata": {
    "colab": {
      "name": "Online Retail.ipynb",
      "provenance": [],
      "collapsed_sections": []
    },
    "kernelspec": {
      "name": "python3",
      "display_name": "Python 3"
    },
    "language_info": {
      "name": "python"
    }
  },
  "cells": [
    {
      "cell_type": "markdown",
      "source": [
        "# Product Visibility and Marketing:\n",
        "\n",
        "| Serial No.| Description |\n",
        "| --------- | ----------- |\n",
        "|1| Data Exploration.|\n",
        "|2| Data Wrangling.|\n",
        "|3| Data Analysis.| \n",
        "|4| Product Analytics:|\n",
        "|4.1| Time Series Trends.|\n",
        "|4.2| Trends In Revenue.|\n",
        "|4.3| Trends of Repeating Customers.|\n",
        "|4.4| Revenue From Repeated Customers.|\n",
        "|4.5| Popular Items over Time.|\n",
        "|4.6| Top 5 Items. |\n",
        "|4.7| Trending Items.|\n",
        "|5| **Product Recommendation.**|\n",
        "|5.1| Customer Item Matrix.|\n",
        "|5.2| Collaborative Filtering.|\n",
        "|5.2.1| User-Based Collaborative Filtering.|\n",
        "|5.2.1A| User-to-User Similarity Matrix.|\n",
        "|5.2.1B| User-Based Recommedations.|\n",
        "|5.2.2| Items Based Collaborative Filtering.|\n",
        "|5.2.2A| Item-to-Item Similarity Matrix.|\n",
        "|5.2.2B| Item-Based Recommendation.|\n",
        "|6| **Customer Life Time Value.**|\n",
        "|6.1| Predicting 3-Month Customer Life-Time Value.|\n",
        "|6.2| Regression Model.|\n",
        "|7| Customer Segmentation.|\n",
        "|7.1| Segmentation Using K-Means|"
      ],
      "metadata": {
        "id": "FnLSigRDeKCM"
      }
    },
    {
      "cell_type": "markdown",
      "source": [
        "## 1: Data Exploration:"
      ],
      "metadata": {
        "id": "PB1aUoP3fetl"
      }
    },
    {
      "cell_type": "code",
      "execution_count": null,
      "metadata": {
        "id": "rNegvTfiYNmr"
      },
      "outputs": [],
      "source": [
        "import pandas as pd\n",
        "import numpy as np \n",
        "import matplotlib.pyplot as plt\n",
        "import seaborn as sns\n",
        "import plotly.express as px\n",
        "import plotly.graph_objects as go\n",
        "import matplotlib as mpl\n",
        "\n",
        "mpl.rcParams['axes.grid'] = False"
      ]
    },
    {
      "cell_type": "code",
      "source": [
        "df = pd.read_excel('/content/Online.xlsx',\n",
        "                   sheet_name=2)"
      ],
      "metadata": {
        "id": "2Nka8FY7eT8b",
        "outputId": "3ac61a5f-ef37-41b5-81cf-2a5b1834af3f",
        "colab": {
          "base_uri": "https://localhost:8080/",
          "height": 375
        }
      },
      "execution_count": null,
      "outputs": [
        {
          "output_type": "error",
          "ename": "BadZipFile",
          "evalue": "ignored",
          "traceback": [
            "\u001b[0;31m---------------------------------------------------------------------------\u001b[0m",
            "\u001b[0;31mBadZipFile\u001b[0m                                Traceback (most recent call last)",
            "\u001b[0;32m<ipython-input-9-1af67d26ef3d>\u001b[0m in \u001b[0;36m<module>\u001b[0;34m()\u001b[0m\n\u001b[1;32m      1\u001b[0m df = pd.read_excel('/content/Online.xlsx',\n\u001b[0;32m----> 2\u001b[0;31m                    sheet_name=2)\n\u001b[0m",
            "\u001b[0;32m/usr/local/lib/python3.7/dist-packages/pandas/util/_decorators.py\u001b[0m in \u001b[0;36mwrapper\u001b[0;34m(*args, **kwargs)\u001b[0m\n\u001b[1;32m    294\u001b[0m                 )\n\u001b[1;32m    295\u001b[0m                 \u001b[0mwarnings\u001b[0m\u001b[0;34m.\u001b[0m\u001b[0mwarn\u001b[0m\u001b[0;34m(\u001b[0m\u001b[0mmsg\u001b[0m\u001b[0;34m,\u001b[0m \u001b[0mFutureWarning\u001b[0m\u001b[0;34m,\u001b[0m \u001b[0mstacklevel\u001b[0m\u001b[0;34m=\u001b[0m\u001b[0mstacklevel\u001b[0m\u001b[0;34m)\u001b[0m\u001b[0;34m\u001b[0m\u001b[0;34m\u001b[0m\u001b[0m\n\u001b[0;32m--> 296\u001b[0;31m             \u001b[0;32mreturn\u001b[0m \u001b[0mfunc\u001b[0m\u001b[0;34m(\u001b[0m\u001b[0;34m*\u001b[0m\u001b[0margs\u001b[0m\u001b[0;34m,\u001b[0m \u001b[0;34m**\u001b[0m\u001b[0mkwargs\u001b[0m\u001b[0;34m)\u001b[0m\u001b[0;34m\u001b[0m\u001b[0;34m\u001b[0m\u001b[0m\n\u001b[0m\u001b[1;32m    297\u001b[0m \u001b[0;34m\u001b[0m\u001b[0m\n\u001b[1;32m    298\u001b[0m         \u001b[0;32mreturn\u001b[0m \u001b[0mwrapper\u001b[0m\u001b[0;34m\u001b[0m\u001b[0;34m\u001b[0m\u001b[0m\n",
            "\u001b[0;32m/usr/local/lib/python3.7/dist-packages/pandas/io/excel/_base.py\u001b[0m in \u001b[0;36mread_excel\u001b[0;34m(io, sheet_name, header, names, index_col, usecols, squeeze, dtype, engine, converters, true_values, false_values, skiprows, nrows, na_values, keep_default_na, na_filter, verbose, parse_dates, date_parser, thousands, comment, skipfooter, convert_float, mangle_dupe_cols)\u001b[0m\n\u001b[1;32m    302\u001b[0m \u001b[0;34m\u001b[0m\u001b[0m\n\u001b[1;32m    303\u001b[0m     \u001b[0;32mif\u001b[0m \u001b[0;32mnot\u001b[0m \u001b[0misinstance\u001b[0m\u001b[0;34m(\u001b[0m\u001b[0mio\u001b[0m\u001b[0;34m,\u001b[0m \u001b[0mExcelFile\u001b[0m\u001b[0;34m)\u001b[0m\u001b[0;34m:\u001b[0m\u001b[0;34m\u001b[0m\u001b[0;34m\u001b[0m\u001b[0m\n\u001b[0;32m--> 304\u001b[0;31m         \u001b[0mio\u001b[0m \u001b[0;34m=\u001b[0m \u001b[0mExcelFile\u001b[0m\u001b[0;34m(\u001b[0m\u001b[0mio\u001b[0m\u001b[0;34m,\u001b[0m \u001b[0mengine\u001b[0m\u001b[0;34m=\u001b[0m\u001b[0mengine\u001b[0m\u001b[0;34m)\u001b[0m\u001b[0;34m\u001b[0m\u001b[0;34m\u001b[0m\u001b[0m\n\u001b[0m\u001b[1;32m    305\u001b[0m     \u001b[0;32melif\u001b[0m \u001b[0mengine\u001b[0m \u001b[0;32mand\u001b[0m \u001b[0mengine\u001b[0m \u001b[0;34m!=\u001b[0m \u001b[0mio\u001b[0m\u001b[0;34m.\u001b[0m\u001b[0mengine\u001b[0m\u001b[0;34m:\u001b[0m\u001b[0;34m\u001b[0m\u001b[0;34m\u001b[0m\u001b[0m\n\u001b[1;32m    306\u001b[0m         raise ValueError(\n",
            "\u001b[0;32m/usr/local/lib/python3.7/dist-packages/pandas/io/excel/_base.py\u001b[0m in \u001b[0;36m__init__\u001b[0;34m(self, path_or_buffer, engine)\u001b[0m\n\u001b[1;32m    865\u001b[0m         \u001b[0mself\u001b[0m\u001b[0;34m.\u001b[0m\u001b[0m_io\u001b[0m \u001b[0;34m=\u001b[0m \u001b[0mstringify_path\u001b[0m\u001b[0;34m(\u001b[0m\u001b[0mpath_or_buffer\u001b[0m\u001b[0;34m)\u001b[0m\u001b[0;34m\u001b[0m\u001b[0;34m\u001b[0m\u001b[0m\n\u001b[1;32m    866\u001b[0m \u001b[0;34m\u001b[0m\u001b[0m\n\u001b[0;32m--> 867\u001b[0;31m         \u001b[0mself\u001b[0m\u001b[0;34m.\u001b[0m\u001b[0m_reader\u001b[0m \u001b[0;34m=\u001b[0m \u001b[0mself\u001b[0m\u001b[0;34m.\u001b[0m\u001b[0m_engines\u001b[0m\u001b[0;34m[\u001b[0m\u001b[0mengine\u001b[0m\u001b[0;34m]\u001b[0m\u001b[0;34m(\u001b[0m\u001b[0mself\u001b[0m\u001b[0;34m.\u001b[0m\u001b[0m_io\u001b[0m\u001b[0;34m)\u001b[0m\u001b[0;34m\u001b[0m\u001b[0;34m\u001b[0m\u001b[0m\n\u001b[0m\u001b[1;32m    868\u001b[0m \u001b[0;34m\u001b[0m\u001b[0m\n\u001b[1;32m    869\u001b[0m     \u001b[0;32mdef\u001b[0m \u001b[0m__fspath__\u001b[0m\u001b[0;34m(\u001b[0m\u001b[0mself\u001b[0m\u001b[0;34m)\u001b[0m\u001b[0;34m:\u001b[0m\u001b[0;34m\u001b[0m\u001b[0;34m\u001b[0m\u001b[0m\n",
            "\u001b[0;32m/usr/local/lib/python3.7/dist-packages/pandas/io/excel/_xlrd.py\u001b[0m in \u001b[0;36m__init__\u001b[0;34m(self, filepath_or_buffer)\u001b[0m\n\u001b[1;32m     20\u001b[0m         \u001b[0merr_msg\u001b[0m \u001b[0;34m=\u001b[0m \u001b[0;34m\"Install xlrd >= 1.0.0 for Excel support\"\u001b[0m\u001b[0;34m\u001b[0m\u001b[0;34m\u001b[0m\u001b[0m\n\u001b[1;32m     21\u001b[0m         \u001b[0mimport_optional_dependency\u001b[0m\u001b[0;34m(\u001b[0m\u001b[0;34m\"xlrd\"\u001b[0m\u001b[0;34m,\u001b[0m \u001b[0mextra\u001b[0m\u001b[0;34m=\u001b[0m\u001b[0merr_msg\u001b[0m\u001b[0;34m)\u001b[0m\u001b[0;34m\u001b[0m\u001b[0;34m\u001b[0m\u001b[0m\n\u001b[0;32m---> 22\u001b[0;31m         \u001b[0msuper\u001b[0m\u001b[0;34m(\u001b[0m\u001b[0;34m)\u001b[0m\u001b[0;34m.\u001b[0m\u001b[0m__init__\u001b[0m\u001b[0;34m(\u001b[0m\u001b[0mfilepath_or_buffer\u001b[0m\u001b[0;34m)\u001b[0m\u001b[0;34m\u001b[0m\u001b[0;34m\u001b[0m\u001b[0m\n\u001b[0m\u001b[1;32m     23\u001b[0m \u001b[0;34m\u001b[0m\u001b[0m\n\u001b[1;32m     24\u001b[0m     \u001b[0;34m@\u001b[0m\u001b[0mproperty\u001b[0m\u001b[0;34m\u001b[0m\u001b[0;34m\u001b[0m\u001b[0m\n",
            "\u001b[0;32m/usr/local/lib/python3.7/dist-packages/pandas/io/excel/_base.py\u001b[0m in \u001b[0;36m__init__\u001b[0;34m(self, filepath_or_buffer)\u001b[0m\n\u001b[1;32m    351\u001b[0m             \u001b[0mself\u001b[0m\u001b[0;34m.\u001b[0m\u001b[0mbook\u001b[0m \u001b[0;34m=\u001b[0m \u001b[0mself\u001b[0m\u001b[0;34m.\u001b[0m\u001b[0mload_workbook\u001b[0m\u001b[0;34m(\u001b[0m\u001b[0mfilepath_or_buffer\u001b[0m\u001b[0;34m)\u001b[0m\u001b[0;34m\u001b[0m\u001b[0;34m\u001b[0m\u001b[0m\n\u001b[1;32m    352\u001b[0m         \u001b[0;32melif\u001b[0m \u001b[0misinstance\u001b[0m\u001b[0;34m(\u001b[0m\u001b[0mfilepath_or_buffer\u001b[0m\u001b[0;34m,\u001b[0m \u001b[0mstr\u001b[0m\u001b[0;34m)\u001b[0m\u001b[0;34m:\u001b[0m\u001b[0;34m\u001b[0m\u001b[0;34m\u001b[0m\u001b[0m\n\u001b[0;32m--> 353\u001b[0;31m             \u001b[0mself\u001b[0m\u001b[0;34m.\u001b[0m\u001b[0mbook\u001b[0m \u001b[0;34m=\u001b[0m \u001b[0mself\u001b[0m\u001b[0;34m.\u001b[0m\u001b[0mload_workbook\u001b[0m\u001b[0;34m(\u001b[0m\u001b[0mfilepath_or_buffer\u001b[0m\u001b[0;34m)\u001b[0m\u001b[0;34m\u001b[0m\u001b[0;34m\u001b[0m\u001b[0m\n\u001b[0m\u001b[1;32m    354\u001b[0m         \u001b[0;32melif\u001b[0m \u001b[0misinstance\u001b[0m\u001b[0;34m(\u001b[0m\u001b[0mfilepath_or_buffer\u001b[0m\u001b[0;34m,\u001b[0m \u001b[0mbytes\u001b[0m\u001b[0;34m)\u001b[0m\u001b[0;34m:\u001b[0m\u001b[0;34m\u001b[0m\u001b[0;34m\u001b[0m\u001b[0m\n\u001b[1;32m    355\u001b[0m             \u001b[0mself\u001b[0m\u001b[0;34m.\u001b[0m\u001b[0mbook\u001b[0m \u001b[0;34m=\u001b[0m \u001b[0mself\u001b[0m\u001b[0;34m.\u001b[0m\u001b[0mload_workbook\u001b[0m\u001b[0;34m(\u001b[0m\u001b[0mBytesIO\u001b[0m\u001b[0;34m(\u001b[0m\u001b[0mfilepath_or_buffer\u001b[0m\u001b[0;34m)\u001b[0m\u001b[0;34m)\u001b[0m\u001b[0;34m\u001b[0m\u001b[0;34m\u001b[0m\u001b[0m\n",
            "\u001b[0;32m/usr/local/lib/python3.7/dist-packages/pandas/io/excel/_xlrd.py\u001b[0m in \u001b[0;36mload_workbook\u001b[0;34m(self, filepath_or_buffer)\u001b[0m\n\u001b[1;32m     35\u001b[0m             \u001b[0;32mreturn\u001b[0m \u001b[0mopen_workbook\u001b[0m\u001b[0;34m(\u001b[0m\u001b[0mfile_contents\u001b[0m\u001b[0;34m=\u001b[0m\u001b[0mdata\u001b[0m\u001b[0;34m)\u001b[0m\u001b[0;34m\u001b[0m\u001b[0;34m\u001b[0m\u001b[0m\n\u001b[1;32m     36\u001b[0m         \u001b[0;32melse\u001b[0m\u001b[0;34m:\u001b[0m\u001b[0;34m\u001b[0m\u001b[0;34m\u001b[0m\u001b[0m\n\u001b[0;32m---> 37\u001b[0;31m             \u001b[0;32mreturn\u001b[0m \u001b[0mopen_workbook\u001b[0m\u001b[0;34m(\u001b[0m\u001b[0mfilepath_or_buffer\u001b[0m\u001b[0;34m)\u001b[0m\u001b[0;34m\u001b[0m\u001b[0;34m\u001b[0m\u001b[0m\n\u001b[0m\u001b[1;32m     38\u001b[0m \u001b[0;34m\u001b[0m\u001b[0m\n\u001b[1;32m     39\u001b[0m     \u001b[0;34m@\u001b[0m\u001b[0mproperty\u001b[0m\u001b[0;34m\u001b[0m\u001b[0;34m\u001b[0m\u001b[0m\n",
            "\u001b[0;32m/usr/local/lib/python3.7/dist-packages/xlrd/__init__.py\u001b[0m in \u001b[0;36mopen_workbook\u001b[0;34m(filename, logfile, verbosity, use_mmap, file_contents, encoding_override, formatting_info, on_demand, ragged_rows)\u001b[0m\n\u001b[1;32m    120\u001b[0m             \u001b[0mzf\u001b[0m \u001b[0;34m=\u001b[0m \u001b[0mzipfile\u001b[0m\u001b[0;34m.\u001b[0m\u001b[0mZipFile\u001b[0m\u001b[0;34m(\u001b[0m\u001b[0mtimemachine\u001b[0m\u001b[0;34m.\u001b[0m\u001b[0mBYTES_IO\u001b[0m\u001b[0;34m(\u001b[0m\u001b[0mfile_contents\u001b[0m\u001b[0;34m)\u001b[0m\u001b[0;34m)\u001b[0m\u001b[0;34m\u001b[0m\u001b[0;34m\u001b[0m\u001b[0m\n\u001b[1;32m    121\u001b[0m         \u001b[0;32melse\u001b[0m\u001b[0;34m:\u001b[0m\u001b[0;34m\u001b[0m\u001b[0;34m\u001b[0m\u001b[0m\n\u001b[0;32m--> 122\u001b[0;31m             \u001b[0mzf\u001b[0m \u001b[0;34m=\u001b[0m \u001b[0mzipfile\u001b[0m\u001b[0;34m.\u001b[0m\u001b[0mZipFile\u001b[0m\u001b[0;34m(\u001b[0m\u001b[0mfilename\u001b[0m\u001b[0;34m)\u001b[0m\u001b[0;34m\u001b[0m\u001b[0;34m\u001b[0m\u001b[0m\n\u001b[0m\u001b[1;32m    123\u001b[0m \u001b[0;34m\u001b[0m\u001b[0m\n\u001b[1;32m    124\u001b[0m         \u001b[0;31m# Workaround for some third party files that use forward slashes and\u001b[0m\u001b[0;34m\u001b[0m\u001b[0;34m\u001b[0m\u001b[0;34m\u001b[0m\u001b[0m\n",
            "\u001b[0;32m/usr/lib/python3.7/zipfile.py\u001b[0m in \u001b[0;36m__init__\u001b[0;34m(self, file, mode, compression, allowZip64, compresslevel)\u001b[0m\n\u001b[1;32m   1256\u001b[0m         \u001b[0;32mtry\u001b[0m\u001b[0;34m:\u001b[0m\u001b[0;34m\u001b[0m\u001b[0;34m\u001b[0m\u001b[0m\n\u001b[1;32m   1257\u001b[0m             \u001b[0;32mif\u001b[0m \u001b[0mmode\u001b[0m \u001b[0;34m==\u001b[0m \u001b[0;34m'r'\u001b[0m\u001b[0;34m:\u001b[0m\u001b[0;34m\u001b[0m\u001b[0;34m\u001b[0m\u001b[0m\n\u001b[0;32m-> 1258\u001b[0;31m                 \u001b[0mself\u001b[0m\u001b[0;34m.\u001b[0m\u001b[0m_RealGetContents\u001b[0m\u001b[0;34m(\u001b[0m\u001b[0;34m)\u001b[0m\u001b[0;34m\u001b[0m\u001b[0;34m\u001b[0m\u001b[0m\n\u001b[0m\u001b[1;32m   1259\u001b[0m             \u001b[0;32melif\u001b[0m \u001b[0mmode\u001b[0m \u001b[0;32min\u001b[0m \u001b[0;34m(\u001b[0m\u001b[0;34m'w'\u001b[0m\u001b[0;34m,\u001b[0m \u001b[0;34m'x'\u001b[0m\u001b[0;34m)\u001b[0m\u001b[0;34m:\u001b[0m\u001b[0;34m\u001b[0m\u001b[0;34m\u001b[0m\u001b[0m\n\u001b[1;32m   1260\u001b[0m                 \u001b[0;31m# set the modified flag so central directory gets written\u001b[0m\u001b[0;34m\u001b[0m\u001b[0;34m\u001b[0m\u001b[0;34m\u001b[0m\u001b[0m\n",
            "\u001b[0;32m/usr/lib/python3.7/zipfile.py\u001b[0m in \u001b[0;36m_RealGetContents\u001b[0;34m(self)\u001b[0m\n\u001b[1;32m   1323\u001b[0m             \u001b[0;32mraise\u001b[0m \u001b[0mBadZipFile\u001b[0m\u001b[0;34m(\u001b[0m\u001b[0;34m\"File is not a zip file\"\u001b[0m\u001b[0;34m)\u001b[0m\u001b[0;34m\u001b[0m\u001b[0;34m\u001b[0m\u001b[0m\n\u001b[1;32m   1324\u001b[0m         \u001b[0;32mif\u001b[0m \u001b[0;32mnot\u001b[0m \u001b[0mendrec\u001b[0m\u001b[0;34m:\u001b[0m\u001b[0;34m\u001b[0m\u001b[0;34m\u001b[0m\u001b[0m\n\u001b[0;32m-> 1325\u001b[0;31m             \u001b[0;32mraise\u001b[0m \u001b[0mBadZipFile\u001b[0m\u001b[0;34m(\u001b[0m\u001b[0;34m\"File is not a zip file\"\u001b[0m\u001b[0;34m)\u001b[0m\u001b[0;34m\u001b[0m\u001b[0;34m\u001b[0m\u001b[0m\n\u001b[0m\u001b[1;32m   1326\u001b[0m         \u001b[0;32mif\u001b[0m \u001b[0mself\u001b[0m\u001b[0;34m.\u001b[0m\u001b[0mdebug\u001b[0m \u001b[0;34m>\u001b[0m \u001b[0;36m1\u001b[0m\u001b[0;34m:\u001b[0m\u001b[0;34m\u001b[0m\u001b[0;34m\u001b[0m\u001b[0m\n\u001b[1;32m   1327\u001b[0m             \u001b[0mprint\u001b[0m\u001b[0;34m(\u001b[0m\u001b[0mendrec\u001b[0m\u001b[0;34m)\u001b[0m\u001b[0;34m\u001b[0m\u001b[0;34m\u001b[0m\u001b[0m\n",
            "\u001b[0;31mBadZipFile\u001b[0m: File is not a zip file"
          ]
        }
      ]
    },
    {
      "cell_type": "code",
      "source": [
        "data = df.copy()\n",
        "print(f'Dimension of the Dataframe: {data.shape}')\n",
        "for col in data.columns:\n",
        "    print(f'Column: {col:15} | \\\n",
        "    Type: {str(data[col].dtype):15} | \\\n",
        "    Missing Values: {data[col].isnull().sum()}')"
      ],
      "metadata": {
        "id": "rLwUT-_7k54z",
        "colab": {
          "base_uri": "https://localhost:8080/",
          "height": 279
        },
        "outputId": "1ed601e4-a6d8-45e5-f1e6-a79f9f415486"
      },
      "execution_count": null,
      "outputs": [
        {
          "output_type": "error",
          "ename": "NameError",
          "evalue": "ignored",
          "traceback": [
            "\u001b[0;31m---------------------------------------------------------------------------\u001b[0m",
            "\u001b[0;31mNameError\u001b[0m                                 Traceback (most recent call last)",
            "\u001b[0;32m<ipython-input-4-d3a2557cd4d2>\u001b[0m in \u001b[0;36m<module>\u001b[0;34m()\u001b[0m\n\u001b[0;32m----> 1\u001b[0;31m \u001b[0mdata\u001b[0m \u001b[0;34m=\u001b[0m \u001b[0mdf\u001b[0m\u001b[0;34m.\u001b[0m\u001b[0mcopy\u001b[0m\u001b[0;34m(\u001b[0m\u001b[0;34m)\u001b[0m\u001b[0;34m\u001b[0m\u001b[0;34m\u001b[0m\u001b[0m\n\u001b[0m\u001b[1;32m      2\u001b[0m \u001b[0mprint\u001b[0m\u001b[0;34m(\u001b[0m\u001b[0;34mf'Dimension of the Dataframe: {data.shape}'\u001b[0m\u001b[0;34m)\u001b[0m\u001b[0;34m\u001b[0m\u001b[0;34m\u001b[0m\u001b[0m\n\u001b[1;32m      3\u001b[0m \u001b[0;32mfor\u001b[0m \u001b[0mcol\u001b[0m \u001b[0;32min\u001b[0m \u001b[0mdata\u001b[0m\u001b[0;34m.\u001b[0m\u001b[0mcolumns\u001b[0m\u001b[0;34m:\u001b[0m\u001b[0;34m\u001b[0m\u001b[0;34m\u001b[0m\u001b[0m\n\u001b[1;32m      4\u001b[0m     \u001b[0mprint\u001b[0m\u001b[0;34m(\u001b[0m\u001b[0;34mf'Column: {col:15} |     Type: {str(data[col].dtype):15} |     Missing Values: {data[col].isnull().sum()}'\u001b[0m\u001b[0;34m)\u001b[0m\u001b[0;34m\u001b[0m\u001b[0;34m\u001b[0m\u001b[0m\n",
            "\u001b[0;31mNameError\u001b[0m: name 'df' is not defined"
          ]
        }
      ]
    },
    {
      "cell_type": "code",
      "source": [
        "data.head()"
      ],
      "metadata": {
        "id": "_irP5rb0g51q"
      },
      "execution_count": null,
      "outputs": []
    },
    {
      "cell_type": "markdown",
      "source": [
        "## 2: Data Wrangling:"
      ],
      "metadata": {
        "id": "FQcFUzren4eu"
      }
    },
    {
      "cell_type": "code",
      "source": [
        "data.columns = map(str.lower, data.columns)\n",
        "data.columns"
      ],
      "metadata": {
        "id": "qAl2ExeIlk_h"
      },
      "execution_count": null,
      "outputs": []
    },
    {
      "cell_type": "code",
      "source": [
        "data.rename(columns={\n",
        "    'invoiceno':'invoice_no',\n",
        "    'stockcode':'stock_code',\n",
        "    'invoicedate':'invoice_date',\n",
        "    'unitprice':'unit_price',\n",
        "    'customerid': 'customer_id',\n",
        "}, inplace=True)\n",
        "data.head(3)"
      ],
      "metadata": {
        "id": "xDsCeQURm1Ov"
      },
      "execution_count": null,
      "outputs": []
    },
    {
      "cell_type": "markdown",
      "source": [
        "#### Negative values in Quantity Feature:"
      ],
      "metadata": {
        "id": "7uPUDuwopGKB"
      }
    },
    {
      "cell_type": "code",
      "source": [
        "data.loc[data['quantity'] <= 0].shape"
      ],
      "metadata": {
        "id": "ZbHdRNWDnaX2"
      },
      "execution_count": null,
      "outputs": []
    },
    {
      "cell_type": "markdown",
      "source": [
        "There are **10624** values are negative in the **Quantity column**"
      ],
      "metadata": {
        "id": "z3gZfm9aofl9"
      }
    },
    {
      "cell_type": "code",
      "source": [
        "data = data.loc[data['quantity'] > 0]\n",
        "data.shape"
      ],
      "metadata": {
        "id": "fCHo2-Reoank"
      },
      "execution_count": null,
      "outputs": []
    },
    {
      "cell_type": "markdown",
      "source": [
        "#### Missing values in Custoer ID Feature:"
      ],
      "metadata": {
        "id": "qbHjc8AjpMgc"
      }
    },
    {
      "cell_type": "code",
      "source": [
        "pd.isnull(data['customer_id']).sum()"
      ],
      "metadata": {
        "id": "-j4ozFHio0yg"
      },
      "execution_count": null,
      "outputs": []
    },
    {
      "cell_type": "code",
      "source": [
        "data = data[pd.notnull(data['customer_id'])]\n",
        "data.shape"
      ],
      "metadata": {
        "id": "v1W5fXk0pzR2"
      },
      "execution_count": null,
      "outputs": []
    },
    {
      "cell_type": "markdown",
      "source": [
        "#### Total Sales:"
      ],
      "metadata": {
        "id": "NiVNYjIxrwcx"
      }
    },
    {
      "cell_type": "code",
      "source": [
        "data['sales'] = data['quantity'] * data['unit_price']\n",
        "data.head(3)"
      ],
      "metadata": {
        "id": "E9YBkB38rgwL"
      },
      "execution_count": null,
      "outputs": []
    },
    {
      "cell_type": "markdown",
      "source": [
        "#### Per Oder Data:"
      ],
      "metadata": {
        "id": "0RpGH6TRsF8f"
      }
    },
    {
      "cell_type": "code",
      "source": [
        "orders_data = data.groupby(['customer_id',\n",
        "                            'invoice_no']).agg({\n",
        "                                'sales': sum,\n",
        "                                'invoice_date': max\n",
        "                            })\n",
        "orders_data"
      ],
      "metadata": {
        "id": "9NKwM_hLr-Fb"
      },
      "execution_count": null,
      "outputs": []
    },
    {
      "cell_type": "markdown",
      "source": [
        "## 3: Data Analysis:"
      ],
      "metadata": {
        "id": "WDyKH0PDtofO"
      }
    },
    {
      "cell_type": "code",
      "source": [
        "def groupby_mean(x):\n",
        "    return x.mean()\n",
        "\n",
        "def groupby_count(x):\n",
        "    return x.count()\n",
        "\n",
        "def purchase_duration(x):\n",
        "    return (x.max() - x.min()).days\n",
        "\n",
        "def avg_frequency(x):\n",
        "    return (x.max() - x.min()).days/ x.count()\n",
        "\n",
        "groupby_mean.__name__ = 'avg'\n",
        "groupby_count.__name__ = 'count'\n",
        "purchase_duration.__name__ = 'purchase_duration'\n",
        "avg_frequency.__name__ = 'purchase_frequency'"
      ],
      "metadata": {
        "id": "st9IEfQWtExg"
      },
      "execution_count": null,
      "outputs": []
    },
    {
      "cell_type": "code",
      "source": [
        "summary_data = orders_data.reset_index().groupby('customer_id').agg({\n",
        "    'sales': [min, max, groupby_mean, groupby_count],\n",
        "    'invoice_date': [min, max, purchase_duration, avg_frequency]\n",
        "})\n",
        "summary_data\n"
      ],
      "metadata": {
        "id": "CGoJoPbYtidG"
      },
      "execution_count": null,
      "outputs": []
    },
    {
      "cell_type": "code",
      "source": [
        "summary_data.columns = ['_'.join(col).lower() for \\\n",
        "                        col in summary_data.columns]\n",
        "summary_data              "
      ],
      "metadata": {
        "id": "B9C9Tj82v0Z0"
      },
      "execution_count": null,
      "outputs": []
    },
    {
      "cell_type": "code",
      "source": [
        "summary_data.shape"
      ],
      "metadata": {
        "id": "qewUHJHKwlFh"
      },
      "execution_count": null,
      "outputs": []
    },
    {
      "cell_type": "code",
      "source": [
        "summary_data = summary_data.loc[summary_data[\\\n",
        "                    'invoice_date_purchase_duration']> 0]\n",
        "summary_data.shape"
      ],
      "metadata": {
        "id": "QZahKff6wz5E"
      },
      "execution_count": null,
      "outputs": []
    },
    {
      "cell_type": "code",
      "source": [
        "plt.figure(figsize=(13,9))\n",
        "ax = summary_data.groupby('sales_count')\\\n",
        "    .count()['sales_avg'][:20].plot(\n",
        "        kind='bar', color='#bf263c'\n",
        "    )\n",
        "ax.set_ylabel('Count')\n",
        "sns.despine(offset=20, trim=True)\n",
        "plt.show()"
      ],
      "metadata": {
        "id": "gAhfthVBxscm"
      },
      "execution_count": null,
      "outputs": []
    },
    {
      "cell_type": "code",
      "source": [
        "summary_data['sales_count'].describe()"
      ],
      "metadata": {
        "id": "agvNgGshykj3"
      },
      "execution_count": null,
      "outputs": []
    },
    {
      "cell_type": "code",
      "source": [
        "summary_data['sales_avg'].describe()"
      ],
      "metadata": {
        "id": "0fQPF4HAzQ9s"
      },
      "execution_count": null,
      "outputs": []
    },
    {
      "cell_type": "code",
      "source": [
        "plt.figure(figsize=(13,7))\n",
        "ax = summary_data['invoice_date_purchase_frequency']\\\n",
        "    .hist(bins=20, color='#bf263c', rwidth=0.8, \n",
        "          grid=False)\n",
        "ax.set_xlabel('Avg no. of Days between Purchases')\n",
        "ax.set_ylabel('Count')\n",
        "sns.despine(offset=20, trim=True)\n",
        "plt.show()"
      ],
      "metadata": {
        "id": "vSCse2LczgwN"
      },
      "execution_count": null,
      "outputs": []
    },
    {
      "cell_type": "code",
      "source": [
        "summary_data['invoice_date_purchase_frequency'].describe()"
      ],
      "metadata": {
        "id": "k9SwyGHk3guL"
      },
      "execution_count": null,
      "outputs": []
    },
    {
      "cell_type": "code",
      "source": [
        "summary_data['invoice_date_purchase_duration'].describe()"
      ],
      "metadata": {
        "id": "IlryY2g43-WR"
      },
      "execution_count": null,
      "outputs": []
    },
    {
      "cell_type": "markdown",
      "source": [
        "## 4: Product Analytics:\n",
        "\n",
        "**Product analytics** is a way to draw insights from data on how customer engage and interact with products offered, how different products perform, and what some of the observable weaknesses and strengths in a business are. However, product analytics does not just stop at analyzing the data. The ultimate goal of product analytics is really to build actionable insights and reports that can further help optimize and improve product performance and generate new marketing or product ideas based on the findings of product analytics.\n",
        "Product analytics starts by tracking events. These events can be customer website visits, page views, browser histories, purchases, or any other actions that customers can take with the products that you offer. Then, you can start analyzing and visualizing any observable patterns in these events with the goal of creating actionable insights or reports.\n",
        "\n"
      ],
      "metadata": {
        "id": "iSpQxj3TTz6j"
      }
    },
    {
      "cell_type": "markdown",
      "source": [
        "### Time Series Trends:"
      ],
      "metadata": {
        "id": "85uSisnnkMDj"
      }
    },
    {
      "cell_type": "code",
      "source": [
        "data.columns"
      ],
      "metadata": {
        "id": "l50C76MGmBsU"
      },
      "execution_count": null,
      "outputs": []
    },
    {
      "cell_type": "code",
      "source": [
        "monthly_orders_data = data.set_index('invoice_date')['invoice_no'].resample('M').nunique()\n",
        "monthly_orders_data"
      ],
      "metadata": {
        "id": "wVHZVrcVTzoB"
      },
      "execution_count": null,
      "outputs": []
    },
    {
      "cell_type": "code",
      "source": [
        "ax = pd.DataFrame(monthly_orders_data.values)\\\n",
        ".plot(color='#bf263c',figsize=(13,7), legend=False)\n",
        "ax.set_ylabel('date')\n",
        "ax.set_xlabel('Number of Orders/Invoices')\n",
        "ax.set_title('Total Number of Orders Over Time')\n",
        "plt.xticks(\n",
        "    range(len(monthly_orders_data.index)),\n",
        "    [x.strftime('%m.%Y') \n",
        "    for x in monthly_orders_data.index],\n",
        "    rotation=45\n",
        ")\n",
        "sns.despine(offset=10, trim=True)\n",
        "plt.show()"
      ],
      "metadata": {
        "id": "aBTfuXseTzfK"
      },
      "execution_count": null,
      "outputs": []
    },
    {
      "cell_type": "markdown",
      "source": [
        "One thing that is noticeable from this chart is that there is a sudden radical drop in the number of orders in December 2011. If you look closely at the data, this is simply because we do not have the data for the full month of December 2011. "
      ],
      "metadata": {
        "id": "nQCS5bHNsFuv"
      }
    },
    {
      "cell_type": "code",
      "source": [
        "print('Date Range: %s ~ %s' % (data['invoice_date'].min(),\n",
        "                    data['invoice_date'].max()))\n"
      ],
      "metadata": {
        "id": "-Baz_GNIoTRg"
      },
      "execution_count": null,
      "outputs": []
    },
    {
      "cell_type": "code",
      "source": [
        "data.loc[data['invoice_date'] >= '2011-12-01'].shape"
      ],
      "metadata": {
        "id": "zEScrcOpTzJI"
      },
      "execution_count": null,
      "outputs": []
    },
    {
      "cell_type": "code",
      "source": [
        "data.shape"
      ],
      "metadata": {
        "id": "hJLfa6HnTzGF"
      },
      "execution_count": null,
      "outputs": []
    },
    {
      "cell_type": "code",
      "source": [
        "data = data.loc[data['invoice_date'] < '2011-12-01']\n",
        "data.shape"
      ],
      "metadata": {
        "id": "Ok7F3Tk3TzCU"
      },
      "execution_count": null,
      "outputs": []
    },
    {
      "cell_type": "code",
      "source": [
        "monthly_orders_data = data.set_index('invoice_date')['invoice_no'].resample('M').nunique()\n",
        "monthly_orders_data"
      ],
      "metadata": {
        "id": "CU_uIAQyTy-D"
      },
      "execution_count": null,
      "outputs": []
    },
    {
      "cell_type": "code",
      "source": [
        "ax = pd.DataFrame(monthly_orders_data.values)\\\n",
        ".plot(color='#bf263c',figsize=(13,7), legend=False)\n",
        "ax.set_ylabel('date')\n",
        "ax.set_xlabel('Number of Orders/Invoices')\n",
        "ax.set_title('Total Number of Orders Over Time')\n",
        "plt.xticks(\n",
        "    range(len(monthly_orders_data.index)),\n",
        "    [x.strftime('%m.%Y') \n",
        "    for x in monthly_orders_data.index],\n",
        "    rotation=45\n",
        ")\n",
        "sns.despine(offset=10, trim=True)\n",
        "plt.show()"
      ],
      "metadata": {
        "id": "z_z8QBYhTy41"
      },
      "execution_count": null,
      "outputs": []
    },
    {
      "cell_type": "markdown",
      "source": [
        "The monthly number of orders seems to float around 1,500 from December 2010 to August 2011, and then increases significantly from September 2011, and almost doubles by November 2011. One explanation for this could be that the business is actually growing significantly from September 2011. Another explanation could be seasonal effects. In e-commerce businesses, it is not rare to see spikes in sales as it approaches the end of the year. Typically, sales rise significantly from October to January for many e-commerce businesses, and without the data from the previous year, it is difficult to conclude whether this spike in sales is due to a growth in business or due to seasonal effects. When you are analyzing your data, we advise you to compare the current year's data against the previous year's data."
      ],
      "metadata": {
        "id": "n5XXeWWSsVka"
      }
    },
    {
      "cell_type": "markdown",
      "source": [
        "### Time Series Revenue"
      ],
      "metadata": {
        "id": "bM1aEO9H-hpY"
      }
    },
    {
      "cell_type": "code",
      "source": [
        "monthly_revenue_data = data.set_index(\n",
        "    'invoice_date')['sales'].resample('M').sum()"
      ],
      "metadata": {
        "id": "m2tYxaY1-hbF"
      },
      "execution_count": null,
      "outputs": []
    },
    {
      "cell_type": "code",
      "source": [
        "monthly_revenue_data"
      ],
      "metadata": {
        "id": "H2BofLB2-hKO"
      },
      "execution_count": null,
      "outputs": []
    },
    {
      "cell_type": "code",
      "source": [
        "ax = pd.DataFrame(monthly_revenue_data.values).plot(\n",
        "    figsize=(13,7), color='#bf263c'\n",
        ")\n",
        "ax.set_xlabel('Date')\n",
        "ax.set_ylabel('Sales')\n",
        "ax.set_title('Total Revenue Over TIme')\n",
        "ax.set_ylim([0, \n",
        "    max(monthly_revenue_data.values + 100000)],)\n",
        "plt.xticks(\n",
        "    range(len(monthly_revenue_data.index)),\n",
        "    [x.strftime('%m.%Y') \n",
        "    for x in monthly_revenue_data.index]\n",
        ")\n",
        "\n",
        "sns.despine(offset=20,trim=True)\n",
        "plt.show()"
      ],
      "metadata": {
        "id": "dZktiEyM-hFl"
      },
      "execution_count": null,
      "outputs": []
    },
    {
      "cell_type": "markdown",
      "source": [
        "We see a similar pattern to the previous monthly Total Number of Orders Over Time chart in this monthly revenue chart. The monthly revenue floats around 700,000 from December 2010 to August 2011 and then it increases significantly from September 2011. As discussed before, to verify whether this significant increase in sales and revenue is due to a growth in business or due to seasonal effects, we need to look further back in the sales history and compare the current year's sales against the previous year's sales."
      ],
      "metadata": {
        "id": "FGc5_sjSsfNA"
      }
    },
    {
      "cell_type": "markdown",
      "source": [
        "### Time Series Analysis of Repeat Customers:"
      ],
      "metadata": {
        "id": "6O9IM4IfqlDM"
      }
    },
    {
      "cell_type": "markdown",
      "source": [
        "Important factor of a successful business is how well it is retaining customers and how many repeat purchases and customers it has. In this section, we are going to analyze the number of monthly repeat purchases and how much of the monthly revenue is attributable to these repeat purchases and customers. A typical strong and stable business has a steady stream of sales from existing customers. Let's see how much of the sales are from repeat and existing customers of the online retail business"
      ],
      "metadata": {
        "id": "4i9g2ojqsu_G"
      }
    },
    {
      "cell_type": "code",
      "source": [
        "data.head(3)"
      ],
      "metadata": {
        "id": "KPiyM-1bTy2_"
      },
      "execution_count": null,
      "outputs": []
    },
    {
      "cell_type": "code",
      "source": [
        "invoice_customer_data = data.groupby(\n",
        "    by=['invoice_no', 'invoice_date']\n",
        ").agg({\n",
        "    'sales':sum,\n",
        "    'customer_id':max,\n",
        "    'country':max\n",
        "}).reset_index()"
      ],
      "metadata": {
        "id": "b2hg8NHPTy0B"
      },
      "execution_count": null,
      "outputs": []
    },
    {
      "cell_type": "code",
      "source": [
        "invoice_customer_data.head(3)"
      ],
      "metadata": {
        "id": "pdjAfzChTyva"
      },
      "execution_count": null,
      "outputs": []
    },
    {
      "cell_type": "code",
      "source": [
        "monthly_repeat_customers_data = invoice_customer_data\\\n",
        ".set_index('invoice_date').groupby([\n",
        "          pd.Grouper(freq='M'),'customer_id'                         \n",
        "]).filter(lambda x: len(x)> 1)\\\n",
        ".resample('M').nunique()['customer_id']\n"
      ],
      "metadata": {
        "id": "ITftQIvXTytA"
      },
      "execution_count": null,
      "outputs": []
    },
    {
      "cell_type": "code",
      "source": [
        "monthly_repeat_customers_data"
      ],
      "metadata": {
        "id": "r1Mi8C6kTyqB"
      },
      "execution_count": null,
      "outputs": []
    },
    {
      "cell_type": "code",
      "source": [
        "monthly_unique_customer_data = data.set_index(\n",
        "    'invoice_date')['customer_id'].resample('M').nunique()\n",
        "monthly_unique_customer_data"
      ],
      "metadata": {
        "id": "PoqpUv08tAFX"
      },
      "execution_count": null,
      "outputs": []
    },
    {
      "cell_type": "code",
      "source": [
        "monthly_repeat_percentage = (monthly_repeat_customers_data\\\n",
        "/ monthly_unique_customer_data) * 100\n",
        "monthly_repeat_percentage"
      ],
      "metadata": {
        "id": "8cRGPoBSs_CF"
      },
      "execution_count": null,
      "outputs": []
    },
    {
      "cell_type": "code",
      "source": [
        "ax = pd.DataFrame(monthly_repeat_customers_data.values).plot(\n",
        "    figsize=(13,7)\n",
        ")\n",
        "pd.DataFrame(monthly_unique_customer_data.values).plot(\n",
        "    ax=ax, grid=False, color='#bf263c'\n",
        ")\n",
        "\n",
        "ax2 = pd.DataFrame(monthly_repeat_percentage.values).plot.bar(\n",
        "    ax=ax, \n",
        "    grid=False,\n",
        "    secondary_y=True,\n",
        "    color='#323133',\n",
        "    alpha=0.4\n",
        ")\n",
        "ax.set_xlabel('Date')\n",
        "ax.set_ylabel('Number of Customers')\n",
        "ax.set_title('Number of All vs Repeat Customers Over Time')\n",
        "ax.legend(['Repeat Customers','All Customers'])\n",
        "\n",
        "ax2.set_ylabel('Percentage (%)')\n",
        "ax2.legend(['Percetage of Repeat'], loc='upper right')\n",
        "\n",
        "ax.set_ylim([0, monthly_unique_customer_data.values.max()+100])\n",
        "ax2.set_ylim([0,100])\n",
        "\n",
        "plt.xticks(\n",
        "    range(len(monthly_repeat_customers_data.index)),\n",
        "    [x.strftime('%m.%Y') \n",
        "    for x in monthly_unique_customer_data.index],\n",
        "    rotation=45\n",
        ")\n",
        "plt.show()"
      ],
      "metadata": {
        "id": "Ah-3G25Bs-Se"
      },
      "execution_count": null,
      "outputs": []
    },
    {
      "cell_type": "markdown",
      "source": [
        "As you can see from this chart, the numbers of both repeat and all customers start to rise significantly from September 2011. The percentage of Repeat Customers seems to stay pretty consistent at about 20 to 30%. This online retail business will benefit from this steady stream of Repeat Customers, as they will help the business to generate a stable stream of sales. "
      ],
      "metadata": {
        "id": "NGZzs1cXtBHE"
      }
    },
    {
      "cell_type": "markdown",
      "source": [
        "### Revenue From Repeat Customers:"
      ],
      "metadata": {
        "id": "3z7d7PDe5wrY"
      }
    },
    {
      "cell_type": "code",
      "source": [
        "monthly_rev_repeat_customers = invoice_customer_data\\\n",
        ".set_index('invoice_date').groupby([\n",
        "    pd.Grouper(freq='M'), 'customer_id'\n",
        "]).filter(lambda x: len(x) > 1)\\\n",
        ".resample('M').sum()['sales']"
      ],
      "metadata": {
        "id": "nkgGnrvEs9n1"
      },
      "execution_count": null,
      "outputs": []
    },
    {
      "cell_type": "code",
      "source": [
        "monthly_rev_perc_repeat_customers = (monthly_rev_repeat_customers\\\n",
        "/ monthly_revenue_data) * 100"
      ],
      "metadata": {
        "id": "P_IJw9vZs8sR"
      },
      "execution_count": null,
      "outputs": []
    },
    {
      "cell_type": "code",
      "source": [
        "monthly_rev_perc_repeat_customers"
      ],
      "metadata": {
        "id": "J_GhlpZYTylH"
      },
      "execution_count": null,
      "outputs": []
    },
    {
      "cell_type": "code",
      "source": [
        "ax = pd.DataFrame(monthly_revenue_data.values).plot(\n",
        "    figsize=(13,7)\n",
        ")\n",
        "pd.DataFrame(monthly_rev_repeat_customers.values).plot(\n",
        "    ax=ax,\n",
        "    grid=False\n",
        ")\n",
        "ax.set_xlabel('Date')\n",
        "ax.set_ylabel('Sales')\n",
        "ax.set_title('Total Revenue vs Revenue from Repeat Customer')\n",
        "ax.legend(['Total Revenue', 'Repeat Customer Revenue'])\n",
        "ax.set_ylim([0, max(monthly_revenue_data.values)+100000])\n",
        "ax2 = ax.twinx()\n",
        "pd.DataFrame(monthly_rev_perc_repeat_customers.values).plot(\n",
        "    ax=ax2,\n",
        "    kind='bar',\n",
        "    color='#323133',\n",
        "    alpha=0.4\n",
        ")\n",
        "ax2.set_ylim([0, max(monthly_rev_perc_repeat_customers.values)+30])\n",
        "ax2.set_ylabel('Percentage(%')\n",
        "ax2.legend(['Repeat Revenue Percentage'])\n",
        "ax2.set_xticklabels([\n",
        "    x.strftime('%m.%Y') \n",
        "    for x in monthly_rev_perc_repeat_customers.index\n",
        "])\n",
        "plt.show(\n",
        "\n",
        ")"
      ],
      "metadata": {
        "id": "FkXf4qV-TyXR"
      },
      "execution_count": null,
      "outputs": []
    },
    {
      "cell_type": "markdown",
      "source": [
        "We see a similar pattern as before, where there is a significant increase in the revenue from September 2011. One interesting thing to notice here is the percentage of the monthly revenue from repeat customers. We have seen that roughly 20-30% of the customers who made purchases are repeat customers. However, in this graph, we can see that roughly 40-50% of the Total Revenue is from repeat customers. In other words, roughly half of the revenue was driven by the 20-30% of the customer base who are repeat customers. This shows how important it is to retain existing customers"
      ],
      "metadata": {
        "id": "WigIkj_ztUol"
      }
    },
    {
      "cell_type": "markdown",
      "source": [
        "### Trending Items Over Time:"
      ],
      "metadata": {
        "id": "xybjDkOtHJmp"
      }
    },
    {
      "cell_type": "code",
      "source": [
        "date_item_data = pd.DataFrame(\n",
        "    data.set_index('invoice_date').groupby([\n",
        "            pd.Grouper(freq='M'), 'stock_code'\n",
        "    ])['quantity'].sum()\n",
        ")\n",
        "date_item_data"
      ],
      "metadata": {
        "id": "ddZf90rZHI-r"
      },
      "execution_count": null,
      "outputs": []
    },
    {
      "cell_type": "code",
      "source": [
        "last_month_sorted_data = date_item_data\\\n",
        ".loc['2011-11-30'].sort_values(\n",
        "    by='quantity',\n",
        "    ascending=False\n",
        ").reset_index()\n",
        "last_month_sorted_data"
      ],
      "metadata": {
        "id": "E6R8S6ubHImG"
      },
      "execution_count": null,
      "outputs": []
    },
    {
      "cell_type": "markdown",
      "source": [
        "### Top 5 Items:"
      ],
      "metadata": {
        "id": "KBXE3pDbI8OK"
      }
    },
    {
      "cell_type": "code",
      "source": [
        "date_item_data = pd.DataFrame(\n",
        "    data.loc[\n",
        "        data['stock_code'].isin(\n",
        "            [23084,84826,22197,22086,'85099B'])\n",
        "    ].set_index('invoice_date').groupby([\n",
        "        pd.Grouper(freq='M'), 'stock_code'\n",
        "    ])['quantity'].sum()\n",
        ")\n",
        "date_item_data"
      ],
      "metadata": {
        "id": "PZ8jX_aQHIeq"
      },
      "execution_count": null,
      "outputs": []
    },
    {
      "cell_type": "markdown",
      "source": [
        "### Trending Items:"
      ],
      "metadata": {
        "id": "fRYGJVgSHHdp"
      }
    },
    {
      "cell_type": "code",
      "source": [
        "trending_items_data = date_item_data.reset_index()\\\n",
        ".pivot('invoice_date','stock_code').fillna(0)\n",
        "\n",
        "trending_items_data = trending_items_data.reset_index()\n",
        "trending_items_data = trending_items_data.set_index('invoice_date')\n",
        "trending_items_data.columns = trending_items_data.columns.droplevel(0)\n",
        "trending_items_data\n",
        "\n"
      ],
      "metadata": {
        "id": "6v8UPLr1HIYX"
      },
      "execution_count": null,
      "outputs": []
    },
    {
      "cell_type": "code",
      "source": [
        "ax = pd.DataFrame(\n",
        "    trending_items_data.values\n",
        ").plot(\n",
        "    figsize=(13,7), grid=False\n",
        ")\n",
        "ax.set_ylabel('Number of Purchases')\n",
        "ax.set_xlabel('Date')\n",
        "ax.set_title('Items Trends Over Time')\n",
        "ax.legend(trending_items_data.columns,\n",
        "          loc='upper left')\n",
        "plt.xticks(\n",
        "    range(len(trending_items_data.index)),\n",
        "    [x.strftime('%m.%Y') for\n",
        "     x in trending_items_data.index]\n",
        ")\n",
        "sns.despine(offset=20, trim=True)\n",
        "plt.show()"
      ],
      "metadata": {
        "id": "wBRJYjp2HIB_"
      },
      "execution_count": null,
      "outputs": []
    },
    {
      "cell_type": "markdown",
      "source": [
        "Let's take a closer look at this time series plot. The sales of these five products spiked in November 2011, especially, the sales of the product with the stock code, 85099B, which were close to 0 from February 2011 to October 2011. Then, it suddenly spiked in November 2011. It might be worth taking a closer look into what might have driven this spike. It could be an item that is highly sensitive to seasonality, such that this item becomes very popular during November, or it could also be due to a genuine change in trends that led this item to become suddenly more popular than before.\n",
        "\n",
        "The popularity of the rest of the top five products, 22086, 22197, 23084, and 84826, seem to have built up in the few months prior to November 2011. As a marketer, it would be worthwhile taking a closer look at the potential drivers behind this buildup of rising popularity for these items. You could look at whether these items are typically more popular in colder seasons or whether there is a rising trend for these specific items in the market."
      ],
      "metadata": {
        "id": "-2nyf1QbuAaH"
      }
    },
    {
      "cell_type": "markdown",
      "source": [
        "# Product Recommendation:"
      ],
      "metadata": {
        "id": "A6i8s0yNO-0s"
      }
    },
    {
      "cell_type": "markdown",
      "source": [
        "### Customer Item Matrix:"
      ],
      "metadata": {
        "id": "4Cy5y4U1PQIp"
      }
    },
    {
      "cell_type": "code",
      "source": [
        "customer_item_matrix = data.pivot_table(\n",
        "    index= 'customer_id',\n",
        "    columns= 'stock_code',\n",
        "    values= 'quantity',\n",
        "    aggfunc= 'sum'\n",
        ")\n",
        "customer_item_matrix.loc[12481:].head()"
      ],
      "metadata": {
        "id": "8_dz61l2O-oU"
      },
      "execution_count": null,
      "outputs": []
    },
    {
      "cell_type": "code",
      "source": [
        "customer_item_matrix.shape"
      ],
      "metadata": {
        "id": "x0XQ8uhYO-dl"
      },
      "execution_count": null,
      "outputs": []
    },
    {
      "cell_type": "code",
      "source": [
        "data['stock_code'].nunique()"
      ],
      "metadata": {
        "id": "PgOOAG1vO-PC"
      },
      "execution_count": null,
      "outputs": []
    },
    {
      "cell_type": "code",
      "source": [
        "customer_item_matrix.loc[12348.0].sum()"
      ],
      "metadata": {
        "id": "9-p4CD4tO-CL"
      },
      "execution_count": null,
      "outputs": []
    },
    {
      "cell_type": "code",
      "source": [
        "customer_item_matrix = customer_item_matrix\\\n",
        ".applymap(lambda x: 1 if x > 0 else 0)\n",
        "customer_item_matrix.loc[12481:].head()"
      ],
      "metadata": {
        "id": "hxtXvvQzO9a2"
      },
      "execution_count": null,
      "outputs": []
    },
    {
      "cell_type": "markdown",
      "source": [
        "## Collaborative Filtering"
      ],
      "metadata": {
        "id": "DDQZanNdTdZy"
      }
    },
    {
      "cell_type": "code",
      "source": [
        "from sklearn.metrics.pairwise import cosine_similarity"
      ],
      "metadata": {
        "id": "w00n3nBkO9OQ"
      },
      "execution_count": null,
      "outputs": []
    },
    {
      "cell_type": "markdown",
      "source": [
        "### User-Based Collaborative FIltering"
      ],
      "metadata": {
        "id": "5_iDAjWwUGdA"
      }
    },
    {
      "cell_type": "markdown",
      "source": [
        "### User-to-User Similarity Matrix"
      ],
      "metadata": {
        "id": "oCIWhw1bUYYS"
      }
    },
    {
      "cell_type": "code",
      "source": [
        "user_user_sim_matrix = pd.DataFrame(\n",
        "    cosine_similarity(customer_item_matrix)\n",
        ")\n",
        "user_user_sim_matrix.head()"
      ],
      "metadata": {
        "id": "d5dy_fTOO9KC"
      },
      "execution_count": null,
      "outputs": []
    },
    {
      "cell_type": "code",
      "source": [
        "user_user_sim_matrix.columns = customer_item_matrix.index\n",
        "\n",
        "user_user_sim_matrix['customer_id'] = customer_item_matrix.index\n",
        "user_user_sim_matrix = user_user_sim_matrix.set_index('customer_id')\n",
        "user_user_sim_matrix.head()"
      ],
      "metadata": {
        "id": "3GesE551O82E"
      },
      "execution_count": null,
      "outputs": []
    },
    {
      "cell_type": "markdown",
      "source": [
        "Let's take a closer look at this user-to-user similarity matrix. As you can imagine, the cosine similarity between a customer to themselves is 1, and this is what we can observe from this similarity matrix. The diagonal elements in this user-to-user similarity matrix have values of 1. The rest represents the pairwise cosine similarity between two customers. For example, the cosine similarity measure between customers 12347 and 12348 is 0.063022. On the other hand, the cosine similarity between customers 12347 and 12349 is 0.046130. This suggests that customer 12348 is more similar to customer 12347 than customer 12349 is to the customer 12347, based on the products that they purchased. This way, we can easily tell which customers are similar to others, and which customers have bought similar items to others.\n",
        "These pairwise cosine similarity measures are what we are going to use for product recommendations. Let's work by picking one customer as an example. We will first rank the most similar customers to the customer with ID 12350, using the following code:"
      ],
      "metadata": {
        "id": "prQkKWN3unFJ"
      }
    },
    {
      "cell_type": "markdown",
      "source": [
        "### Making Recommendation:"
      ],
      "metadata": {
        "id": "jwdrEnCyWsDk"
      }
    },
    {
      "cell_type": "code",
      "source": [
        "user_user_sim_matrix.loc[12350.0].sort_values(ascending=False)"
      ],
      "metadata": {
        "id": "9aCKyCQEO8r2"
      },
      "execution_count": null,
      "outputs": []
    },
    {
      "cell_type": "markdown",
      "source": [
        "These are the top 10 customers that are the most similar to customer 12350. Let's pick customer 17935 and discuss how we can recommend products using these results. The strategy is as follows. First, we need to identify the items that the customers 12350 and 17935 have already bought. Then, we are going to find the products that the target customer 17935 has not purchased, but customer 12350 has. Since these two customers have bought similar items in the past, we are going to assume that the target customer 17935 has a high chance of purchasing the items that he or she has not bought, but customer 12350 has bought. Lastly, we are going to use this list of items and recommend them to the target customer 17935."
      ],
      "metadata": {
        "id": "7AlUwv7Buwqf"
      }
    },
    {
      "cell_type": "code",
      "source": [
        "items_bought_by_A = set(customer_item_matrix.loc[\n",
        "        12350.0].iloc[\n",
        "            customer_item_matrix.loc[\n",
        "                12350.0].to_numpy().nonzero()].index)\n",
        "items_bought_by_A"
      ],
      "metadata": {
        "id": "G9HLa2jJdnLG"
      },
      "execution_count": null,
      "outputs": []
    },
    {
      "cell_type": "code",
      "source": [
        "items_bought_by_B = set(customer_item_matrix.loc[\n",
        "        17935.0].iloc[\n",
        "            customer_item_matrix.loc[\n",
        "                17935.0].to_numpy().nonzero()].index)\n",
        "items_bought_by_B"
      ],
      "metadata": {
        "id": "1ydlTq3Mdm67"
      },
      "execution_count": null,
      "outputs": []
    },
    {
      "cell_type": "code",
      "source": [
        "items_recommend_to_B = items_bought_by_A - items_bought_by_B\n",
        "items_recommend_to_B"
      ],
      "metadata": {
        "id": "Wf-Kw0Yadmzg"
      },
      "execution_count": null,
      "outputs": []
    },
    {
      "cell_type": "code",
      "source": [
        "data.loc[\n",
        "    data['stock_code'].isin(items_recommend_to_B),\n",
        "    ['stock_code','description']\n",
        "].drop_duplicates().set_index('stock_code')"
      ],
      "metadata": {
        "id": "Ujxegw7Ydmjc"
      },
      "execution_count": null,
      "outputs": []
    },
    {
      "cell_type": "markdown",
      "source": [
        "Using user-based collaborative filtering, we can do targeted product recommendations for individual customers. We can custom-tailor and include these products that each target customer is likely to purchase in your marketing messages, which can potentially drive more conversions from your customers. As discussed so far, using a user-based collaborative filtering algorithm, we can easily do product recommendations for target customers.\n",
        "However, there is one main disadvantage of using user-based collaborative filtering. As we can see recommendations are based on the individual customer's purchase history. For new customers, it is not going to be enough data to compare these new customers against the others"
      ],
      "metadata": {
        "id": "uUpdX10LvHsn"
      }
    },
    {
      "cell_type": "markdown",
      "source": [
        "## Item-Based Collaborative FIltering:"
      ],
      "metadata": {
        "id": "TaWtraWUgugj"
      }
    },
    {
      "cell_type": "markdown",
      "source": [
        "### Item-to-Item Similarity Matrix:"
      ],
      "metadata": {
        "id": "WsUPRiGyg_S5"
      }
    },
    {
      "cell_type": "code",
      "source": [
        "item_item_sim_matrix = pd.DataFrame(\n",
        "    cosine_similarity(\n",
        "        customer_item_matrix.T\n",
        "    )\n",
        ")"
      ],
      "metadata": {
        "id": "dCC5VGaidmJt"
      },
      "execution_count": null,
      "outputs": []
    },
    {
      "cell_type": "code",
      "source": [
        "item_item_sim_matrix.columns = customer_item_matrix.T.index\n",
        "\n",
        "item_item_sim_matrix['stock_code'] = customer_item_matrix.T.index\n",
        "item_item_sim_matrix = item_item_sim_matrix.set_index('stock_code')\n",
        "item_item_sim_matrix"
      ],
      "metadata": {
        "id": "miYe1HzldmAr"
      },
      "execution_count": null,
      "outputs": []
    },
    {
      "cell_type": "markdown",
      "source": [
        "As before, the diagonal elements have values of 1. This is because the similarity between an item and itself is 1, meaning the two are identical. The rest of the elements contain the similarity measure values between items based on the cosine similarity calculation. For example, looking at the preceding item-to-item similarity matrix, the cosine similarity between the item with Stock Code 10002 and the item with Stock Code 10120 is 0.094868. On the other hand, the cosine similarity between the item 10002 and the item 10125 is 0.090351. This suggests that the item with Stock Code 10120 is more similar to that with Stock Code 10002, than the item with Stock Code 10125 is to that with Stock Code 10002.\n"
      ],
      "metadata": {
        "id": "DGsIbkDLvvsB"
      }
    },
    {
      "cell_type": "markdown",
      "source": [
        "### Making Recommendation:"
      ],
      "metadata": {
        "id": "m5QojaPIiurZ"
      }
    },
    {
      "cell_type": "code",
      "source": [
        "top_10_similar_items = list(\n",
        "    item_item_sim_matrix.loc[\n",
        "        23166\n",
        "    ].sort_values(\n",
        "        ascending=False).iloc[:10].index\n",
        ")\n",
        "top_10_similar_items"
      ],
      "metadata": {
        "id": "Tk5kcvX1dl0W"
      },
      "execution_count": null,
      "outputs": []
    },
    {
      "cell_type": "code",
      "source": [
        "data.loc[\n",
        "    data['stock_code'].isin(\n",
        "        top_10_similar_items\n",
        "    ),['stock_code','description']\n",
        "].drop_duplicates().set_index(\n",
        "    'stock_code').loc[\n",
        "        top_10_similar_items]"
      ],
      "metadata": {
        "id": "iaoB9FL0dltp"
      },
      "execution_count": null,
      "outputs": []
    },
    {
      "cell_type": "markdown",
      "source": [
        "The first item here is the item that the target customer just bought and the other nine items are the items that are frequently bought by others who have bought the first item. As you can see, those who have bought ceramic top storage jars often buy jelly moulds, spice tins, and cake tins. With this data, you can include these items in your marketing messages for this target customer as further product recommendations. Personalizing the marketing messages with targeted product recommendations typically yields higher conversion rates from customers. Using an item-based collaborative filtering algorithm, we can now easily do product recommendations for both new and existing customers."
      ],
      "metadata": {
        "id": "fLcn3nZMwMgJ"
      }
    },
    {
      "cell_type": "markdown",
      "source": [
        "# 4: Customer Life Time Value (CLV):\n",
        "\n",
        "In marketing, the CLV is one of the key metrics to have and monitor. The CLV measures customers' total worth to the business over the course of their lifetime relationship with the company. This metric is especially important to keep track of for acquiring new customers. It is generally more expensive to acquire new customers than to keep existing customers, so knowing the lifetime value and the costs associated with acquiring new customers is essential in order to build marketing strategies with a positive ROI."
      ],
      "metadata": {
        "id": "m3JDInRxwYph"
      }
    },
    {
      "cell_type": "markdown",
      "source": [
        "## 4.1: Predicting 3 Month Customer Life-Time Value:"
      ],
      "metadata": {
        "id": "SZL1HgEu4-Gk"
      }
    },
    {
      "cell_type": "code",
      "source": [
        "clv_freq = '3M'\n",
        "clv_data = orders_data.reset_index().groupby([\n",
        "    'customer_id', pd.Grouper(key='invoice_date', \n",
        "            freq=clv_freq)]).agg({\n",
        "    'sales':[sum, groupby_mean, groupby_count]\n",
        "            })        "
      ],
      "metadata": {
        "id": "0QNmY79p4C8H"
      },
      "execution_count": null,
      "outputs": []
    },
    {
      "cell_type": "code",
      "source": [
        "clv_data.columns = ['_'.join(col).lower() for \\\n",
        "            col in clv_data]\n",
        "clv_data = clv_data.reset_index()\n",
        "clv_data.head(10)"
      ],
      "metadata": {
        "id": "JUKLY1Bz6Y1_"
      },
      "execution_count": null,
      "outputs": []
    },
    {
      "cell_type": "code",
      "source": [
        "date_month_map = {\n",
        "    str(x)[:10]: 'M_%s' % (i+1) for i, x in enumerate(\n",
        "        sorted(clv_data.reset_index()['invoice_date'].unique(), reverse=True))\n",
        "}\n"
      ],
      "metadata": {
        "id": "3luHPEEl6pFP"
      },
      "execution_count": null,
      "outputs": []
    },
    {
      "cell_type": "code",
      "source": [
        "clv_data['M'] = clv_data['invoice_date']\\\n",
        ".apply(lambda x: date_month_map[str(x)[:10]])\n",
        "\n",
        "date_month_map"
      ],
      "metadata": {
        "id": "cRt2rGTJ8EZU"
      },
      "execution_count": null,
      "outputs": []
    },
    {
      "cell_type": "code",
      "source": [
        "clv_data.head(10)"
      ],
      "metadata": {
        "id": "ZxLBJuvj8awy"
      },
      "execution_count": null,
      "outputs": []
    },
    {
      "cell_type": "markdown",
      "source": [
        "### Building Sample Set:"
      ],
      "metadata": {
        "id": "bZoS-Qr09xyM"
      }
    },
    {
      "cell_type": "code",
      "source": [
        "features_data = pd.pivot_table(\n",
        "    clv_data.loc[clv_data['M'] != 'M_1'],\n",
        "    values= ['sales_sum','sales_avg','sales_count'],\n",
        "    columns= 'M',\n",
        "    index= 'customer_id'\n",
        ")"
      ],
      "metadata": {
        "id": "U9Tf-FWO9ffx"
      },
      "execution_count": null,
      "outputs": []
    },
    {
      "cell_type": "code",
      "source": [
        "features_data.columns = ['_'.join(col) \\\n",
        "                         for col in features_data.columns]\n",
        "features_data.shape"
      ],
      "metadata": {
        "id": "IHCIGBgg-mVP"
      },
      "execution_count": null,
      "outputs": []
    },
    {
      "cell_type": "code",
      "source": [
        "features_data.head(10)"
      ],
      "metadata": {
        "id": "MGLAWWMt-wJ_"
      },
      "execution_count": null,
      "outputs": []
    },
    {
      "cell_type": "code",
      "source": [
        "response_data = clv_data.loc[\n",
        "            clv_data['M'] == 'M_1',\n",
        "            ['customer_id','sales_sum']\n",
        "]\n",
        "\n",
        "response_data.columns = ['customer_id', 'CLV_'+ clv_freq]\n",
        "response_data.shape"
      ],
      "metadata": {
        "id": "7HyIHVbyACB2"
      },
      "execution_count": null,
      "outputs": []
    },
    {
      "cell_type": "code",
      "source": [
        "response_data.head()"
      ],
      "metadata": {
        "id": "S9FBPEfPAueE"
      },
      "execution_count": null,
      "outputs": []
    },
    {
      "cell_type": "code",
      "source": [
        "sample_set_data = features_data.merge(\n",
        "    response_data, left_index=True,\n",
        "    right_on='customer_id', how='left'\n",
        ")\n",
        "\n",
        "sample_set_data.shape"
      ],
      "metadata": {
        "id": "BEQZze1BA89S"
      },
      "execution_count": null,
      "outputs": []
    },
    {
      "cell_type": "code",
      "source": [
        "sample_set_data.fillna(0, inplace=True)\n",
        "sample_set_data.head(10)"
      ],
      "metadata": {
        "id": "UJ3tzw_YBi5m"
      },
      "execution_count": null,
      "outputs": []
    },
    {
      "cell_type": "code",
      "source": [
        "sample_set_data['CLV_'+ clv_freq].describe()"
      ],
      "metadata": {
        "id": "MNd0OZDsBu1z"
      },
      "execution_count": null,
      "outputs": []
    },
    {
      "cell_type": "markdown",
      "source": [
        "## 4.2: Regression Models:"
      ],
      "metadata": {
        "id": "b2K5bAXqEA-R"
      }
    },
    {
      "cell_type": "code",
      "source": [
        "from sklearn.model_selection import train_test_split"
      ],
      "metadata": {
        "id": "2wpzxAxZC8pP"
      },
      "execution_count": null,
      "outputs": []
    },
    {
      "cell_type": "code",
      "source": [
        "target = 'CLV_'+clv_freq\n",
        "features = [x for x in sample_set_data.columns\\\n",
        "            if x not in ['customer_id', target]]"
      ],
      "metadata": {
        "id": "VCQEOZ8iEfC-"
      },
      "execution_count": null,
      "outputs": []
    },
    {
      "cell_type": "code",
      "source": [
        "X_train, X_test, y_train, y_test = train_test_split(\n",
        "    sample_set_data[features],\n",
        "    sample_set_data[target],\n",
        "    test_size=0.3\n",
        ")"
      ],
      "metadata": {
        "id": "DRgoCLl7FC1x"
      },
      "execution_count": null,
      "outputs": []
    },
    {
      "cell_type": "code",
      "source": [
        "from sklearn.linear_model import LinearRegression\n",
        "\n",
        "linreg = LinearRegression()\n",
        "linreg.fit(X_train, y_train)"
      ],
      "metadata": {
        "id": "rBAJQXplFg-f"
      },
      "execution_count": null,
      "outputs": []
    },
    {
      "cell_type": "code",
      "source": [
        "coefs = pd.DataFrame(list(zip(features, linreg.coef_)))\n",
        "coefs.columns = ['features','coefs']\n",
        "coefs"
      ],
      "metadata": {
        "id": "2eJQ_lYOGjHD"
      },
      "execution_count": null,
      "outputs": []
    },
    {
      "cell_type": "markdown",
      "source": [
        "### Evaluation:"
      ],
      "metadata": {
        "id": "hTNpKfikHG6T"
      }
    },
    {
      "cell_type": "code",
      "source": [
        "from sklearn.metrics import r2_score, median_absolute_error"
      ],
      "metadata": {
        "id": "pH2NRNWIG0YT"
      },
      "execution_count": null,
      "outputs": []
    },
    {
      "cell_type": "code",
      "source": [
        "training_predictions = linreg.predict(X_train)\n",
        "test_predictions = linreg.predict(X_test)"
      ],
      "metadata": {
        "id": "k-5YhvbvHRCc"
      },
      "execution_count": null,
      "outputs": []
    },
    {
      "cell_type": "markdown",
      "source": [
        "### R-Squared"
      ],
      "metadata": {
        "id": "ZgmvobsfHnwV"
      }
    },
    {
      "cell_type": "code",
      "source": [
        "print(f'In-Sample R-Squared: {r2_score(y_train, training_predictions):.4f}')\n",
        "print(f'Out-of-Sample R-Squared: {r2_score(y_test, test_predictions):.4f}')"
      ],
      "metadata": {
        "id": "pMlOQldwHb99"
      },
      "execution_count": null,
      "outputs": []
    },
    {
      "cell_type": "markdown",
      "source": [
        "### Median Absolute Error:"
      ],
      "metadata": {
        "id": "atEEAJzyIjJ2"
      }
    },
    {
      "cell_type": "code",
      "source": [
        "print(f'In-Sample R-Squared: {median_absolute_error(y_train, training_predictions):.4f}')\n",
        "print(f'Out-of-Sample R-Squared: {median_absolute_error(y_test, test_predictions):.4f}')"
      ],
      "metadata": {
        "id": "7wolMXXUH_hY"
      },
      "execution_count": null,
      "outputs": []
    },
    {
      "cell_type": "markdown",
      "source": [
        "### Scatter Plot:"
      ],
      "metadata": {
        "id": "oqfCT3LkI10a"
      }
    },
    {
      "cell_type": "code",
      "source": [
        "plt.figure(figsize=(13,7))\n",
        "plt.scatter(y_train,training_predictions, color='#bf263c', s=70)\n",
        "plt.plot([0, max(y_train)],\n",
        "         [0, max(training_predictions)],\n",
        "         color='#323133', lw=2,linestyle='dashed')\n",
        "plt.xlabel('actual')\n",
        "plt.ylabel('predicted')\n",
        "plt.title('In-Sample Actual vs Predicted')\n",
        "plt.grid()\n",
        "sns.despine(offset=20, trim=True)\n",
        "plt.show()"
      ],
      "metadata": {
        "id": "CAJAyrRGIuV9"
      },
      "execution_count": null,
      "outputs": []
    },
    {
      "cell_type": "code",
      "source": [
        "plt.figure(figsize=(13,7))\n",
        "plt.scatter(y_test,test_predictions, color='#bf263c', s=70)\n",
        "plt.plot([0, max(y_test)],\n",
        "         [0, max(test_predictions)],\n",
        "         color='#323133', lw=2,linestyle='dashed')\n",
        "plt.xlabel('actual')\n",
        "plt.ylabel('predicted')\n",
        "plt.title('Out-of-Sample Actual vs Predicted')\n",
        "plt.grid()\n",
        "sns.despine(offset=20, trim=True)\n",
        "plt.show()"
      ],
      "metadata": {
        "id": "V5hpGN2bJlgx"
      },
      "execution_count": null,
      "outputs": []
    },
    {
      "cell_type": "markdown",
      "source": [
        "# 7: Customer Segmentation:"
      ],
      "metadata": {
        "id": "1yEdRWXbQVqy"
      }
    },
    {
      "cell_type": "markdown",
      "source": [
        "#### Per Customer Data:"
      ],
      "metadata": {
        "id": "XDU7gga0RnSj"
      }
    },
    {
      "cell_type": "code",
      "source": [
        "data.head()"
      ],
      "metadata": {
        "id": "io-O9qZAUB1W"
      },
      "execution_count": null,
      "outputs": []
    },
    {
      "cell_type": "code",
      "source": [
        "customer_data = data.groupby('customer_id').agg({\n",
        "    'sales': sum,\n",
        "    'invoice_no': lambda x: x.nunique()\n",
        "})\n",
        "customer_data.columns = ['total_sales', 'order_count']\n",
        "customer_data['avg_order_value'] = customer_data['total_sales']\\\n",
        "/ customer_data['order_count']"
      ],
      "metadata": {
        "id": "rvFzLPP8J8Pr"
      },
      "execution_count": null,
      "outputs": []
    },
    {
      "cell_type": "code",
      "source": [
        "customer_data.head()"
      ],
      "metadata": {
        "id": "z6NkstYoTWQO"
      },
      "execution_count": null,
      "outputs": []
    },
    {
      "cell_type": "code",
      "source": [
        "customer_data.describe()"
      ],
      "metadata": {
        "id": "zQB2pK6dTjPO"
      },
      "execution_count": null,
      "outputs": []
    },
    {
      "cell_type": "code",
      "source": [
        "rank_data = customer_data.rank(method='first')\n",
        "rank_data.head()"
      ],
      "metadata": {
        "id": "D9Fvn5EVUxP2"
      },
      "execution_count": null,
      "outputs": []
    },
    {
      "cell_type": "code",
      "source": [
        "normalize_data = (rank_data - rank_data.mean()) / rank_data.std()\n",
        "normalize_data.head(10)"
      ],
      "metadata": {
        "id": "PX2QSawIU5Q4"
      },
      "execution_count": null,
      "outputs": []
    },
    {
      "cell_type": "code",
      "source": [
        "normalize_data.describe()"
      ],
      "metadata": {
        "id": "aUH6bbZQVjmf"
      },
      "execution_count": null,
      "outputs": []
    },
    {
      "cell_type": "markdown",
      "source": [
        "## 7.1: Segmentation Using K-Means Clustering:"
      ],
      "metadata": {
        "id": "Ntt_Oz0MWtdM"
      }
    },
    {
      "cell_type": "code",
      "source": [
        "from sklearn.cluster import KMeans"
      ],
      "metadata": {
        "id": "r_6M4hflWDKA"
      },
      "execution_count": null,
      "outputs": []
    },
    {
      "cell_type": "code",
      "source": [
        "kmeans = KMeans(n_clusters=4)\\\n",
        ".fit(normalize_data[['total_sales',\n",
        "     'order_count','avg_order_value']]\\\n",
        "         .copy(deep=True))\n"
      ],
      "metadata": {
        "id": "_uE6BXzsXPBm"
      },
      "execution_count": null,
      "outputs": []
    },
    {
      "cell_type": "code",
      "source": [
        "kmeans.labels_"
      ],
      "metadata": {
        "id": "q1XTJw9GYB1K"
      },
      "execution_count": null,
      "outputs": []
    },
    {
      "cell_type": "code",
      "source": [
        "kmeans.cluster_centers_"
      ],
      "metadata": {
        "id": "QhbR37e-YusL"
      },
      "execution_count": null,
      "outputs": []
    },
    {
      "cell_type": "code",
      "source": [
        "cluster_data = normalize_data[['total_sales',\n",
        "          'order_count', 'avg_order_value']]\n",
        "cluster_data['cluster'] = kmeans.labels_"
      ],
      "metadata": {
        "id": "y2hTbGceY7Vg"
      },
      "execution_count": null,
      "outputs": []
    },
    {
      "cell_type": "code",
      "source": [
        "cluster_data.head()"
      ],
      "metadata": {
        "id": "42GoT_UMZnFs"
      },
      "execution_count": null,
      "outputs": []
    },
    {
      "cell_type": "code",
      "source": [
        "cluster_data.groupby('cluster').count()['total_sales']"
      ],
      "metadata": {
        "id": "q93jpwzIZpwI"
      },
      "execution_count": null,
      "outputs": []
    },
    {
      "cell_type": "code",
      "source": [
        "plt.scatter(\n",
        "    cluster_data.loc[cluster_data\\\n",
        "            ['cluster'] == 0]['order_count'],\n",
        "    cluster_data.loc[cluster_data\\\n",
        "            ['cluster'] == 0]['total_sales'],\n",
        "            c='#bf263c', s=80\n",
        ")\n",
        "plt.scatter(\n",
        "    cluster_data.loc[cluster_data\\\n",
        "            ['cluster'] == 1]['order_count'],\n",
        "    cluster_data.loc[cluster_data\\\n",
        "            ['cluster'] == 1]['total_sales'],\n",
        "            c='dodgerblue'\n",
        ")\n",
        "plt.scatter(\n",
        "    cluster_data.loc[cluster_data\\\n",
        "            ['cluster'] == 2]['order_count'],\n",
        "    cluster_data.loc[cluster_data\\\n",
        "            ['cluster'] == 2]['total_sales'],\n",
        "            c='green'\n",
        ")\n",
        "plt.scatter(\n",
        "    cluster_data.loc[cluster_data\\\n",
        "            ['cluster'] == 3]['order_count'],\n",
        "    cluster_data.loc[cluster_data\\\n",
        "            ['cluster'] == 3]['total_sales'],\n",
        "            c='orange'\n",
        ")\n",
        "sns.despine(offset=20, trim=True)\n",
        "plt.title('Total Sales vs. Order Count Clusters')\n",
        "plt.xlabel('Order Count')\n",
        "plt.ylabel('Total Sales')\n",
        "plt.grid()\n",
        "plt.show()"
      ],
      "metadata": {
        "id": "FjrFKcJLaeov"
      },
      "execution_count": null,
      "outputs": []
    },
    {
      "cell_type": "markdown",
      "source": [
        "Let's take a closer look at this plot. The cluster in blue is the group of low-value customers, who have not purchased our products so much. On the other hand, the cluster in red is the group of high-value customers, who have purchased the greatest amount and who have purchased products frequently. We can also visualize the clusters with different angles, using the rest of the variables. "
      ],
      "metadata": {
        "id": "B3QOLRkLxwlV"
      }
    },
    {
      "cell_type": "code",
      "source": [
        "plt.scatter(\n",
        "    cluster_data.loc[cluster_data\\\n",
        "            ['cluster'] == 0]['order_count'],\n",
        "    cluster_data.loc[cluster_data\\\n",
        "            ['cluster'] == 0]['avg_order_value'],\n",
        "            c='#bf263c', s=80\n",
        ")\n",
        "plt.scatter(\n",
        "    cluster_data.loc[cluster_data\\\n",
        "            ['cluster'] == 1]['order_count'],\n",
        "    cluster_data.loc[cluster_data\\\n",
        "            ['cluster'] == 1]['avg_order_value'],\n",
        "            c='dodgerblue'\n",
        ")\n",
        "plt.scatter(\n",
        "    cluster_data.loc[cluster_data\\\n",
        "            ['cluster'] == 2]['order_count'],\n",
        "    cluster_data.loc[cluster_data\\\n",
        "            ['cluster'] == 2]['avg_order_value'],\n",
        "            c='green'\n",
        ")\n",
        "plt.scatter(\n",
        "    cluster_data.loc[cluster_data\\\n",
        "            ['cluster'] == 3]['order_count'],\n",
        "    cluster_data.loc[cluster_data\\\n",
        "            ['cluster'] == 3]['avg_order_value'],\n",
        "            c='orange'\n",
        ")\n",
        "sns.despine(offset=20, trim=True)\n",
        "plt.title('Average Order value vs. Order Count Clusters')\n",
        "plt.xlabel('Order Count')\n",
        "plt.ylabel('Average Order Value')\n",
        "plt.grid()\n",
        "plt.show()"
      ],
      "metadata": {
        "id": "m0c2Fem5dbW8"
      },
      "execution_count": null,
      "outputs": []
    },
    {
      "cell_type": "code",
      "source": [
        "plt.scatter(\n",
        "    cluster_data.loc[cluster_data\\\n",
        "            ['cluster'] == 0]['total_sales'],\n",
        "    cluster_data.loc[cluster_data\\\n",
        "            ['cluster'] == 0]['avg_order_value'],\n",
        "            c='#bf263c'\n",
        ")\n",
        "plt.scatter(\n",
        "    cluster_data.loc[cluster_data\\\n",
        "            ['cluster'] == 1]['total_sales'],\n",
        "    cluster_data.loc[cluster_data\\\n",
        "            ['cluster'] == 1]['avg_order_value'],\n",
        "            c='dodgerblue'\n",
        ")\n",
        "plt.scatter(\n",
        "    cluster_data.loc[cluster_data\\\n",
        "            ['cluster'] == 2]['total_sales'],\n",
        "    cluster_data.loc[cluster_data\\\n",
        "            ['cluster'] == 2]['avg_order_value'],\n",
        "            c='green'\n",
        ")\n",
        "plt.scatter(\n",
        "    cluster_data.loc[cluster_data\\\n",
        "            ['cluster'] == 3]['order_count'],\n",
        "    cluster_data.loc[cluster_data\\\n",
        "            ['cluster'] == 3]['avg_order_value'],\n",
        "            c='orange'\n",
        ")\n",
        "sns.despine(offset=20, trim=True)\n",
        "plt.title('Average Order value vs. Total Sales Clusters')\n",
        "plt.xlabel('Total Sales')\n",
        "plt.ylabel('Average Order Value')\n",
        "plt.grid()\n",
        "plt.show()"
      ],
      "metadata": {
        "id": "Zuf988TAgK1w"
      },
      "execution_count": null,
      "outputs": []
    },
    {
      "cell_type": "markdown",
      "source": [
        "The second plot shows the clusters visualized based on AvgOrderValue and OrderCount. On the other hand, the second plot shows the clusters visualized based on AvgOrderValue and TotalSales. As you can see from these plots, the cluster in blue has the lowest average per-order value and the lowest number of orders. However, the cluster in red has the highest average per-order value and the greatest number of orders"
      ],
      "metadata": {
        "id": "eV7n4vyUx26R"
      }
    },
    {
      "cell_type": "markdown",
      "source": [
        "#### Selecting the Best Number of Clusters:"
      ],
      "metadata": {
        "id": "taaWpDWEhIdS"
      }
    },
    {
      "cell_type": "code",
      "source": [
        "from sklearn.metrics import silhouette_score"
      ],
      "metadata": {
        "id": "z8vtSJsygaM2"
      },
      "execution_count": null,
      "outputs": []
    },
    {
      "cell_type": "code",
      "source": [
        "for n_cluster in [4,5,6,7,8,9]:\n",
        "    kmeans = KMeans(n_clusters=n_cluster).fit(\n",
        "        normalize_data[['total_sales',\n",
        "                'order_count', 'avg_order_value']]\n",
        "    )\n",
        "    silhouette_avg = silhouette_score(\n",
        "        normalize_data[['total_sales',\n",
        "                'order_count', 'avg_order_value']],\n",
        "                kmeans.labels_\n",
        "    )\n",
        "    print('Silhouette Score for %i Cluster: %0.4f' %(n_cluster, silhouette_avg))\n"
      ],
      "metadata": {
        "id": "hoEIYRzwhlQr"
      },
      "execution_count": null,
      "outputs": []
    },
    {
      "cell_type": "markdown",
      "source": [
        "#### Interpretting Customer Segments:"
      ],
      "metadata": {
        "id": "H2tmQtH-j-z2"
      }
    },
    {
      "cell_type": "code",
      "source": [
        "kmeans = KMeans(n_clusters=4).fit(\n",
        "    normalize_data[['total_sales',\n",
        "            'order_count','avg_order_value']]\n",
        ")"
      ],
      "metadata": {
        "id": "ytrqw7eri-So"
      },
      "execution_count": null,
      "outputs": []
    },
    {
      "cell_type": "code",
      "source": [
        "four_cluster_data = normalize_data[['total_sales',\n",
        "            'order_count','avg_order_value']]\n",
        "four_cluster_data['cluster'] = kmeans.labels_\n"
      ],
      "metadata": {
        "id": "Lqga7Ov8ksDn"
      },
      "execution_count": null,
      "outputs": []
    },
    {
      "cell_type": "code",
      "source": [
        "four_cluster_data.head(10)"
      ],
      "metadata": {
        "id": "Tawwu5atlEcy"
      },
      "execution_count": null,
      "outputs": []
    },
    {
      "cell_type": "code",
      "source": [
        "kmeans.cluster_centers_"
      ],
      "metadata": {
        "id": "I86ObDtTlLUN"
      },
      "execution_count": null,
      "outputs": []
    },
    {
      "cell_type": "code",
      "source": [
        "high_value_cluster = four_cluster_data.loc[\n",
        "                four_cluster_data['cluster']==2]\n",
        "high_value_cluster.head()"
      ],
      "metadata": {
        "id": "iKfCa0A7lggV"
      },
      "execution_count": null,
      "outputs": []
    },
    {
      "cell_type": "code",
      "source": [
        "customer_data.loc[high_value_cluster.index].describe()"
      ],
      "metadata": {
        "id": "NUGaOV0Hl5aT"
      },
      "execution_count": null,
      "outputs": []
    },
    {
      "cell_type": "code",
      "source": [
        "pd.DataFrame(data.loc[data['customer_id'].isin(\n",
        "    four_cluster_data.loc[four_cluster_data['cluster']==3].index\n",
        ")].groupby('description').count()['stock_code'].sort_values(\n",
        "    ascending=False\n",
        ").head())"
      ],
      "metadata": {
        "id": "NK4_8hJSmGon"
      },
      "execution_count": null,
      "outputs": []
    },
    {
      "cell_type": "markdown",
      "source": [
        "For this high-value segment, the best-selling item was JUMBO BAG RED RETROSPOT and the second best-selling item was REGENCY CAKESTAND 3 TIER. You can utilize this information in marketing strategies, when you target this customer segment. In your marketing campaigns, you can recommend items similar to these best-selling items to this segment of customers, as they are the most interested in these types of items."
      ],
      "metadata": {
        "id": "EJy6Fwo6yE5-"
      }
    },
    {
      "cell_type": "code",
      "source": [
        ""
      ],
      "metadata": {
        "id": "LiEHGpgDnblD"
      },
      "execution_count": null,
      "outputs": []
    }
  ]
}